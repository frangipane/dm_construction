{
 "cells": [
  {
   "cell_type": "markdown",
   "metadata": {
    "colab_type": "text",
    "id": "3rjW5U5EWvFi"
   },
   "source": [
    "# Environment Loading Examples\n",
    "\n",
    "In this notebook, we walk through a few examples of how to load and interact with the Construction environments, both using discrete relative actions with graph observations, and using continuous absolute actions with image observations.\n",
    "\n",
    "For further details, see the [Documentation](https://github.com/deepmind/dm_construction/blob/master/docs/index.md)."
   ]
  },
  {
   "cell_type": "code",
   "execution_count": 0,
   "metadata": {
    "cellView": "both",
    "colab": {},
    "colab_type": "code",
    "id": "ZnFfEX6jkwXb"
   },
   "outputs": [],
   "source": [
    "# Copyright 2020 DeepMind Technologies Limited\n",
    "#\n",
    "# Licensed under the Apache License, Version 2.0 (the \"License\");\n",
    "# you may not use this file except in compliance with the License.\n",
    "# You may obtain a copy of the License at\n",
    "#\n",
    "#      http://www.apache.org/licenses/LICENSE-2.0\n",
    "#\n",
    "# Unless required by applicable law or agreed to in writing, software\n",
    "# distributed under the License is distributed on an \"AS IS\" BASIS,\n",
    "# WITHOUT WARRANTIES OR CONDITIONS OF ANY KIND, either express or implied.\n",
    "# See the License for the specific language governing permissions and\n",
    "# limitations under the License."
   ]
  },
  {
   "cell_type": "markdown",
   "metadata": {
    "colab_type": "text",
    "id": "Qq5modlibPFw"
   },
   "source": [
    "**Installation**\n",
    "\n",
    "1. From the root of this repository, run `pip install .[demos]` to install both `dm_construction` and extra dependencies needed to run this notebook.\n",
    "2. Install [ffmpeg](https://ffmpeg.org/):\n",
    "  * Cross-platform with [Anaconda](https://docs.anaconda.com/anaconda/install/): `conda install ffmpeg`\n",
    "  * Ubuntu: `apt-get install ffmpeg`\n",
    "  * Mac with [Homebrew](https://brew.sh/): `brew install ffmpeg`"
   ]
  },
  {
   "cell_type": "code",
   "execution_count": 1,
   "metadata": {
    "cellView": "both",
    "colab": {},
    "colab_type": "code",
    "id": "IqN5Xi6Dwg8A"
   },
   "outputs": [],
   "source": [
    "import base64\n",
    "import tempfile\n",
    "import textwrap\n",
    "\n",
    "import dm_construction\n",
    "from IPython.display import HTML\n",
    "from matplotlib import animation\n",
    "import matplotlib.pyplot as plt\n",
    "import numpy as np"
   ]
  },
  {
   "cell_type": "code",
   "execution_count": 2,
   "metadata": {
    "cellView": "both",
    "colab": {},
    "colab_type": "code",
    "id": "Rgjq1hYsCQTF"
   },
   "outputs": [],
   "source": [
    "## Helper Functions\n",
    "\n",
    "def show_rgb_observation(rgb_observation, size=5):\n",
    "  \"\"\"Plots a RGB observation, as returned from a Unity environment.\n",
    "\n",
    "  Args:\n",
    "    rgb_observation: numpy array of pixels\n",
    "    size: size to set the figure\n",
    "  \"\"\"\n",
    "  _, ax = plt.subplots(figsize=(size, size))\n",
    "  ax.imshow(rgb_observation)\n",
    "  ax.set_axis_off()\n",
    "  ax.set_aspect(\"equal\")\n",
    "\n",
    "\n",
    "def print_status(env_, time_step_):\n",
    "  \"\"\"Prints reward and episode termination information.\"\"\"\n",
    "  status = \"r={}, p={}\".format(time_step_.reward, time_step_.discount)\n",
    "  if time_step_.discount == 0:\n",
    "    status += \" (reason: {})\".format(env_.termination_reason)\n",
    "  print(status)"
   ]
  },
  {
   "cell_type": "markdown",
   "metadata": {
    "colab_type": "text",
    "id": "KT-f-mqNHQuY"
   },
   "source": [
    "## Supported tasks and wrappers"
   ]
  },
  {
   "cell_type": "markdown",
   "metadata": {
    "colab_type": "text",
    "id": "kqZG9Eh6hwT2"
   },
   "source": [
    "These are the tasks that can be loaded:"
   ]
  },
  {
   "cell_type": "code",
   "execution_count": 3,
   "metadata": {
    "colab": {
     "height": 34
    },
    "colab_type": "code",
    "executionInfo": {
     "elapsed": 31,
     "status": "ok",
     "timestamp": 1583516904602,
     "user": {
      "displayName": "",
      "photoUrl": "",
      "userId": ""
     },
     "user_tz": 0
    },
    "id": "hQrnulou5hy_",
    "outputId": "ccd09317-734d-4276-d518-bf0b0a2dd37c"
   },
   "outputs": [
    {
     "data": {
      "text/plain": [
       "['connecting', 'covering', 'covering_hard', 'marble_run', 'silhouette']"
      ]
     },
     "execution_count": 3,
     "metadata": {},
     "output_type": "execute_result"
    }
   ],
   "source": [
    "dm_construction.ALL_TASKS"
   ]
  },
  {
   "cell_type": "markdown",
   "metadata": {
    "colab_type": "text",
    "id": "pCSth8vehyb0"
   },
   "source": [
    "These are the wrappers that can be applied to the tasks:"
   ]
  },
  {
   "cell_type": "code",
   "execution_count": 4,
   "metadata": {
    "colab": {
     "height": 34
    },
    "colab_type": "code",
    "executionInfo": {
     "elapsed": 34,
     "status": "ok",
     "timestamp": 1583516904649,
     "user": {
      "displayName": "",
      "photoUrl": "",
      "userId": ""
     },
     "user_tz": 0
    },
    "id": "p1dmfSnkBs5X",
    "outputId": "a88202a3-4f5d-4598-95ef-e676c20dc8f9"
   },
   "outputs": [
    {
     "data": {
      "text/plain": [
       "['continuous_absolute', 'discrete_relative']"
      ]
     },
     "execution_count": 4,
     "metadata": {},
     "output_type": "execute_result"
    }
   ],
   "source": [
    "dm_construction.ALL_WRAPPERS"
   ]
  },
  {
   "cell_type": "markdown",
   "metadata": {
    "colab_type": "text",
    "id": "zI_cnwMoB2ZX"
   },
   "source": [
    "## Discrete Relative Actions and Graph Observations"
   ]
  },
  {
   "cell_type": "markdown",
   "metadata": {
    "colab_type": "text",
    "id": "xg356bZDiKNd"
   },
   "source": [
    "The `discrete_relative` wrapper exposes graph-based discrete relative actions and graph observations. Here is an example of loading the Covering task with this wrapper and taking some actions in the environment.\n",
    "\n",
    "Because the observations are graphs, they are not easy to visualize. Instead, we will grab image observations from the underyling task environment and display those instead."
   ]
  },
  {
   "cell_type": "code",
   "execution_count": 5,
   "metadata": {
    "colab": {},
    "colab_type": "code",
    "id": "FX3BH6NrB5cf"
   },
   "outputs": [],
   "source": [
    "# Create the environment.\n",
    "env = dm_construction.get_environment(\n",
    "    \"covering\", wrapper_type=\"discrete_relative\", difficulty=0)"
   ]
  },
  {
   "cell_type": "code",
   "execution_count": 6,
   "metadata": {
    "colab": {
     "height": 68
    },
    "colab_type": "code",
    "executionInfo": {
     "elapsed": 43,
     "status": "ok",
     "timestamp": 1583516915181,
     "user": {
      "displayName": "",
      "photoUrl": "",
      "userId": ""
     },
     "user_tz": 0
    },
    "id": "pYA3B_ZMB613",
    "outputId": "4118a9da-57a4-4f9d-b1d2-157f489b103c"
   },
   "outputs": [
    {
     "data": {
      "text/plain": [
       "{'Index': Array(shape=(), dtype=dtype('int32'), name=None),\n",
       " 'x_action': BoundedArray(shape=(), dtype=dtype('int32'), name=None, minimum=0, maximum=14),\n",
       " 'sticky': BoundedArray(shape=(), dtype=dtype('int32'), name=None, minimum=0, maximum=1)}"
      ]
     },
     "execution_count": 6,
     "metadata": {},
     "output_type": "execute_result"
    }
   ],
   "source": [
    "env.action_spec()"
   ]
  },
  {
   "cell_type": "code",
   "execution_count": 7,
   "metadata": {
    "colab": {
     "height": 136
    },
    "colab_type": "code",
    "executionInfo": {
     "elapsed": 33,
     "status": "ok",
     "timestamp": 1583516915223,
     "user": {
      "displayName": "",
      "photoUrl": "",
      "userId": ""
     },
     "user_tz": 0
    },
    "id": "jX7dbkOJB7vK",
    "outputId": "5ea7f2a2-bcbf-4967-c1ed-f6bfd5454253"
   },
   "outputs": [
    {
     "data": {
      "text/plain": [
       "{'nodes': Array(shape=(0, 18), dtype=dtype('float32'), name='nodes_spec'),\n",
       " 'edges': Array(shape=(0, 1), dtype=dtype('float32'), name='edges_spec'),\n",
       " 'globals': Array(shape=(1, 1), dtype=dtype('float32'), name='globals_spec'),\n",
       " 'n_node': Array(shape=(1,), dtype=dtype('int32'), name='n_node_spec'),\n",
       " 'n_edge': Array(shape=(1,), dtype=dtype('int32'), name='n_edge_spec'),\n",
       " 'receivers': Array(shape=(0,), dtype=dtype('int32'), name='receivers_spec'),\n",
       " 'senders': Array(shape=(0,), dtype=dtype('int32'), name='senders_spec')}"
      ]
     },
     "execution_count": 7,
     "metadata": {},
     "output_type": "execute_result"
    }
   ],
   "source": [
    "env.observation_spec()"
   ]
  },
  {
   "cell_type": "code",
   "execution_count": 8,
   "metadata": {
    "colab": {
     "height": 323
    },
    "colab_type": "code",
    "executionInfo": {
     "elapsed": 126,
     "status": "ok",
     "timestamp": 1583516915362,
     "user": {
      "displayName": "",
      "photoUrl": "",
      "userId": ""
     },
     "user_tz": 0
    },
    "id": "HJnIA6CxEYm8",
    "outputId": "a6b76f63-381f-4be7-dab3-473c19915fb9"
   },
   "outputs": [
    {
     "data": {
      "image/png": "[encoded data removed]",
      "text/plain": [
       "<Figure size 360x360 with 1 Axes>"
      ]
     },
     "metadata": {
      "needs_background": "light"
     },
     "output_type": "display_data"
    }
   ],
   "source": [
    "np.random.seed(1234)\n",
    "time_step = env.reset()\n",
    "\n",
    "# Get the image observation from the task environment.\n",
    "show_rgb_observation(env.core_env.last_time_step.observation[\"RGB\"])"
   ]
  },
  {
   "cell_type": "code",
   "execution_count": 9,
   "metadata": {},
   "outputs": [
    {
     "data": {
      "text/plain": [
       "{'nodes': array([[-6.65 , -2.1  ,  1.   ,  0.   ,  0.7  ,  0.7  ,  0.   ,  0.   ,\n",
       "          0.   ,  0.   ,  0.   ,  1.   ,  0.   ,  0.   ,  0.   ,  1.   ,\n",
       "          0.   ,  0.   ],\n",
       "        [-5.6  , -2.1  ,  1.   ,  0.   ,  0.7  ,  0.7  ,  0.   ,  0.   ,\n",
       "          0.   ,  0.   ,  0.   ,  1.   ,  0.   ,  0.   ,  0.   ,  1.   ,\n",
       "          0.   ,  0.   ],\n",
       "        [-4.55 , -2.1  ,  1.   ,  0.   ,  0.7  ,  0.7  ,  0.   ,  0.   ,\n",
       "          0.   ,  0.   ,  0.   ,  1.   ,  0.   ,  0.   ,  0.   ,  1.   ,\n",
       "          0.   ,  0.   ],\n",
       "        [-2.8  , -2.1  ,  1.   ,  0.   ,  2.1  ,  0.7  ,  0.   ,  0.   ,\n",
       "          0.   ,  0.   ,  0.   ,  1.   ,  0.   ,  0.   ,  0.   ,  1.   ,\n",
       "          0.   ,  0.   ],\n",
       "        [-0.35 , -2.1  ,  1.   ,  0.   ,  2.1  ,  0.7  ,  0.   ,  0.   ,\n",
       "          0.   ,  0.   ,  0.   ,  1.   ,  0.   ,  0.   ,  0.   ,  1.   ,\n",
       "          0.   ,  0.   ],\n",
       "        [ 2.1  , -2.1  ,  1.   ,  0.   ,  2.1  ,  0.7  ,  0.   ,  0.   ,\n",
       "          0.   ,  0.   ,  0.   ,  1.   ,  0.   ,  0.   ,  0.   ,  1.   ,\n",
       "          0.   ,  0.   ],\n",
       "        [ 5.25 , -2.1  ,  1.   ,  0.   ,  3.5  ,  0.7  ,  0.   ,  0.   ,\n",
       "          0.   ,  0.   ,  0.   ,  1.   ,  0.   ,  0.   ,  0.   ,  1.   ,\n",
       "          0.   ,  0.   ],\n",
       "        [-1.75 ,  0.35 ,  1.   ,  0.   ,  2.17 ,  0.35 ,  0.   ,  0.   ,\n",
       "          0.   ,  0.   ,  0.   ,  1.   ,  0.   ,  0.   ,  0.   ,  0.   ,\n",
       "          1.   ,  0.   ],\n",
       "        [ 0.   , -0.175,  1.   ,  0.   , 28.   ,  0.35 ,  0.   ,  0.   ,\n",
       "          0.   ,  0.   ,  0.   ,  1.   ,  0.   ,  0.   ,  1.   ,  0.   ,\n",
       "          0.   ,  0.   ]], dtype=float32),\n",
       " 'edges': array([[0.],\n",
       "        [0.],\n",
       "        [0.],\n",
       "        [0.],\n",
       "        [0.],\n",
       "        [0.],\n",
       "        [0.],\n",
       "        [0.],\n",
       "        [0.],\n",
       "        [0.],\n",
       "        [0.],\n",
       "        [0.],\n",
       "        [0.],\n",
       "        [0.],\n",
       "        [0.],\n",
       "        [0.],\n",
       "        [0.],\n",
       "        [0.],\n",
       "        [0.],\n",
       "        [0.],\n",
       "        [0.],\n",
       "        [0.],\n",
       "        [0.],\n",
       "        [0.],\n",
       "        [0.],\n",
       "        [0.],\n",
       "        [0.],\n",
       "        [0.],\n",
       "        [0.],\n",
       "        [0.],\n",
       "        [0.],\n",
       "        [0.],\n",
       "        [0.],\n",
       "        [0.],\n",
       "        [0.],\n",
       "        [0.],\n",
       "        [0.],\n",
       "        [0.],\n",
       "        [0.],\n",
       "        [0.],\n",
       "        [0.],\n",
       "        [0.],\n",
       "        [0.],\n",
       "        [0.],\n",
       "        [0.],\n",
       "        [0.],\n",
       "        [0.],\n",
       "        [0.],\n",
       "        [0.],\n",
       "        [0.],\n",
       "        [0.],\n",
       "        [0.],\n",
       "        [0.],\n",
       "        [0.],\n",
       "        [0.],\n",
       "        [0.],\n",
       "        [0.],\n",
       "        [0.],\n",
       "        [0.],\n",
       "        [0.],\n",
       "        [0.],\n",
       "        [0.],\n",
       "        [0.],\n",
       "        [0.],\n",
       "        [0.],\n",
       "        [0.],\n",
       "        [0.],\n",
       "        [0.],\n",
       "        [0.],\n",
       "        [0.],\n",
       "        [0.],\n",
       "        [0.]], dtype=float32),\n",
       " 'globals': array([[0.]], dtype=float32),\n",
       " 'n_node': array([9]),\n",
       " 'n_edge': array([72]),\n",
       " 'receivers': array([8, 8, 8, 8, 8, 8, 8, 8, 0, 0, 0, 0, 0, 0, 0, 0, 1, 1, 1, 1, 1, 1,\n",
       "        1, 1, 2, 2, 2, 2, 2, 2, 2, 2, 3, 3, 3, 3, 3, 3, 3, 3, 4, 4, 4, 4,\n",
       "        4, 4, 4, 4, 5, 5, 5, 5, 5, 5, 5, 5, 6, 6, 6, 6, 6, 6, 6, 6, 7, 7,\n",
       "        7, 7, 7, 7, 7, 7], dtype=int32),\n",
       " 'senders': array([0, 1, 2, 3, 4, 5, 6, 7, 8, 1, 2, 3, 4, 5, 6, 7, 8, 0, 2, 3, 4, 5,\n",
       "        6, 7, 8, 0, 1, 3, 4, 5, 6, 7, 8, 0, 1, 2, 4, 5, 6, 7, 8, 0, 1, 2,\n",
       "        3, 5, 6, 7, 8, 0, 1, 2, 3, 4, 6, 7, 8, 0, 1, 2, 3, 4, 5, 7, 8, 0,\n",
       "        1, 2, 3, 4, 5, 6], dtype=int32)}"
      ]
     },
     "execution_count": 9,
     "metadata": {},
     "output_type": "execute_result"
    }
   ],
   "source": [
    "time_step.observation"
   ]
  },
  {
   "cell_type": "code",
   "execution_count": 10,
   "metadata": {
    "colab": {
     "height": 340
    },
    "colab_type": "code",
    "executionInfo": {
     "elapsed": 112,
     "status": "ok",
     "timestamp": 1583516915486,
     "user": {
      "displayName": "",
      "photoUrl": "",
      "userId": ""
     },
     "user_tz": 0
    },
    "id": "GoCtIeXmE1f2",
    "outputId": "0c8cfd5c-257c-4806-97e1-4dab9ee7d838"
   },
   "outputs": [
    {
     "name": "stdout",
     "output_type": "stream",
     "text": [
      "r=-2.0, p=1.0\n"
     ]
    },
    {
     "data": {
      "image/png": "[encoded data removed]",
      "text/plain": [
       "<Figure size 360x360 with 1 Axes>"
      ]
     },
     "metadata": {
      "needs_background": "light"
     },
     "output_type": "display_data"
    }
   ],
   "source": [
    "# Pick an edge.\n",
    "obs = time_step.observation\n",
    "moved_block = 0\n",
    "base_block = 7\n",
    "edge_index = list(\n",
    "    zip(obs[\"senders\"], obs[\"receivers\"])).index((moved_block, base_block))\n",
    "\n",
    "# Construct the action.\n",
    "action = {\n",
    "    \"Index\": edge_index,\n",
    "    \"sticky\": 1,     # make it sticky\n",
    "    \"x_action\": 0,   # place it to the left\n",
    "}\n",
    "\n",
    "time_step = env.step(action)\n",
    "print_status(env, time_step)\n",
    "\n",
    "# Get the image observation from the task environment.\n",
    "show_rgb_observation(env.core_env.last_time_step.observation[\"RGB\"])"
   ]
  },
  {
   "cell_type": "code",
   "execution_count": 12,
   "metadata": {},
   "outputs": [
    {
     "data": {
      "text/plain": [
       "{'nodes': array([[-6.650000e+00, -2.100000e+00,  1.000000e+00,  0.000000e+00,\n",
       "          7.000000e-01,  7.000000e-01,  0.000000e+00,  0.000000e+00,\n",
       "          0.000000e+00,  0.000000e+00,  0.000000e+00,  1.000000e+00,\n",
       "          0.000000e+00,  0.000000e+00,  0.000000e+00,  1.000000e+00,\n",
       "          0.000000e+00,  0.000000e+00],\n",
       "        [-5.600000e+00, -2.100000e+00,  1.000000e+00,  0.000000e+00,\n",
       "          7.000000e-01,  7.000000e-01,  0.000000e+00,  0.000000e+00,\n",
       "          0.000000e+00,  0.000000e+00,  0.000000e+00,  1.000000e+00,\n",
       "          0.000000e+00,  0.000000e+00,  0.000000e+00,  1.000000e+00,\n",
       "          0.000000e+00,  0.000000e+00],\n",
       "        [-4.550000e+00, -2.100000e+00,  1.000000e+00,  0.000000e+00,\n",
       "          7.000000e-01,  7.000000e-01,  0.000000e+00,  0.000000e+00,\n",
       "          0.000000e+00,  0.000000e+00,  0.000000e+00,  1.000000e+00,\n",
       "          0.000000e+00,  0.000000e+00,  0.000000e+00,  1.000000e+00,\n",
       "          0.000000e+00,  0.000000e+00],\n",
       "        [-2.800000e+00, -2.100000e+00,  1.000000e+00,  0.000000e+00,\n",
       "          2.100000e+00,  7.000000e-01,  0.000000e+00,  0.000000e+00,\n",
       "          0.000000e+00,  0.000000e+00,  0.000000e+00,  1.000000e+00,\n",
       "          0.000000e+00,  0.000000e+00,  0.000000e+00,  1.000000e+00,\n",
       "          0.000000e+00,  0.000000e+00],\n",
       "        [-3.500000e-01, -2.100000e+00,  1.000000e+00,  0.000000e+00,\n",
       "          2.100000e+00,  7.000000e-01,  0.000000e+00,  0.000000e+00,\n",
       "          0.000000e+00,  0.000000e+00,  0.000000e+00,  1.000000e+00,\n",
       "          0.000000e+00,  0.000000e+00,  0.000000e+00,  1.000000e+00,\n",
       "          0.000000e+00,  0.000000e+00],\n",
       "        [ 2.100000e+00, -2.100000e+00,  1.000000e+00,  0.000000e+00,\n",
       "          2.100000e+00,  7.000000e-01,  0.000000e+00,  0.000000e+00,\n",
       "          0.000000e+00,  0.000000e+00,  0.000000e+00,  1.000000e+00,\n",
       "          0.000000e+00,  0.000000e+00,  0.000000e+00,  1.000000e+00,\n",
       "          0.000000e+00,  0.000000e+00],\n",
       "        [ 5.250000e+00, -2.100000e+00,  1.000000e+00,  0.000000e+00,\n",
       "          3.500000e+00,  7.000000e-01,  0.000000e+00,  0.000000e+00,\n",
       "          0.000000e+00,  0.000000e+00,  0.000000e+00,  1.000000e+00,\n",
       "          0.000000e+00,  0.000000e+00,  0.000000e+00,  1.000000e+00,\n",
       "          0.000000e+00,  0.000000e+00],\n",
       "        [-1.750000e+00,  3.500000e-01,  1.000000e+00,  0.000000e+00,\n",
       "          2.170000e+00,  3.500000e-01,  0.000000e+00,  0.000000e+00,\n",
       "          0.000000e+00,  0.000000e+00,  0.000000e+00,  1.000000e+00,\n",
       "          0.000000e+00,  0.000000e+00,  0.000000e+00,  0.000000e+00,\n",
       "          1.000000e+00,  0.000000e+00],\n",
       "        [ 0.000000e+00, -1.750000e-01,  1.000000e+00,  0.000000e+00,\n",
       "          2.800000e+01,  3.500000e-01,  0.000000e+00,  0.000000e+00,\n",
       "          0.000000e+00,  0.000000e+00,  0.000000e+00,  1.000000e+00,\n",
       "          0.000000e+00,  0.000000e+00,  1.000000e+00,  0.000000e+00,\n",
       "          0.000000e+00,  0.000000e+00],\n",
       "        [-3.304583e+00,  3.645875e-01,  9.999999e-01,  3.989942e-04,\n",
       "          7.000000e-01,  7.000000e-01,  0.000000e+00,  0.000000e+00,\n",
       "          0.000000e+00,  1.000000e+00,  1.000000e+00,  1.000000e+00,\n",
       "          0.000000e+00,  0.000000e+00,  1.000000e+00,  0.000000e+00,\n",
       "          0.000000e+00,  0.000000e+00]], dtype=float32),\n",
       " 'edges': array([[0.],\n",
       "        [0.],\n",
       "        [0.],\n",
       "        [0.],\n",
       "        [0.],\n",
       "        [0.],\n",
       "        [0.],\n",
       "        [0.],\n",
       "        [0.],\n",
       "        [0.],\n",
       "        [0.],\n",
       "        [0.],\n",
       "        [0.],\n",
       "        [0.],\n",
       "        [0.],\n",
       "        [0.],\n",
       "        [0.],\n",
       "        [0.],\n",
       "        [0.],\n",
       "        [0.],\n",
       "        [0.],\n",
       "        [0.],\n",
       "        [0.],\n",
       "        [0.],\n",
       "        [0.],\n",
       "        [0.],\n",
       "        [0.],\n",
       "        [0.],\n",
       "        [0.],\n",
       "        [0.],\n",
       "        [0.],\n",
       "        [0.],\n",
       "        [0.],\n",
       "        [0.],\n",
       "        [0.],\n",
       "        [0.],\n",
       "        [0.],\n",
       "        [0.],\n",
       "        [0.],\n",
       "        [0.],\n",
       "        [0.],\n",
       "        [0.],\n",
       "        [0.],\n",
       "        [0.],\n",
       "        [0.],\n",
       "        [0.],\n",
       "        [0.],\n",
       "        [0.],\n",
       "        [0.],\n",
       "        [0.],\n",
       "        [0.],\n",
       "        [0.],\n",
       "        [0.],\n",
       "        [0.],\n",
       "        [0.],\n",
       "        [0.],\n",
       "        [0.],\n",
       "        [0.],\n",
       "        [0.],\n",
       "        [0.],\n",
       "        [0.],\n",
       "        [0.],\n",
       "        [0.],\n",
       "        [0.],\n",
       "        [0.],\n",
       "        [0.],\n",
       "        [0.],\n",
       "        [0.],\n",
       "        [0.],\n",
       "        [0.],\n",
       "        [0.],\n",
       "        [0.],\n",
       "        [0.],\n",
       "        [0.],\n",
       "        [0.],\n",
       "        [0.],\n",
       "        [0.],\n",
       "        [0.],\n",
       "        [0.],\n",
       "        [0.],\n",
       "        [0.],\n",
       "        [0.],\n",
       "        [0.],\n",
       "        [0.],\n",
       "        [0.],\n",
       "        [0.],\n",
       "        [0.],\n",
       "        [0.],\n",
       "        [0.],\n",
       "        [0.]], dtype=float32),\n",
       " 'globals': array([[0.]], dtype=float32),\n",
       " 'n_node': array([10]),\n",
       " 'n_edge': array([90]),\n",
       " 'receivers': array([8, 8, 8, 8, 8, 8, 8, 8, 8, 9, 9, 9, 9, 9, 9, 9, 9, 9, 0, 0, 0, 0,\n",
       "        0, 0, 0, 0, 0, 1, 1, 1, 1, 1, 1, 1, 1, 1, 2, 2, 2, 2, 2, 2, 2, 2,\n",
       "        2, 3, 3, 3, 3, 3, 3, 3, 3, 3, 4, 4, 4, 4, 4, 4, 4, 4, 4, 5, 5, 5,\n",
       "        5, 5, 5, 5, 5, 5, 6, 6, 6, 6, 6, 6, 6, 6, 6, 7, 7, 7, 7, 7, 7, 7,\n",
       "        7, 7], dtype=int32),\n",
       " 'senders': array([9, 0, 1, 2, 3, 4, 5, 6, 7, 8, 0, 1, 2, 3, 4, 5, 6, 7, 8, 9, 1, 2,\n",
       "        3, 4, 5, 6, 7, 8, 9, 0, 2, 3, 4, 5, 6, 7, 8, 9, 0, 1, 3, 4, 5, 6,\n",
       "        7, 8, 9, 0, 1, 2, 4, 5, 6, 7, 8, 9, 0, 1, 2, 3, 5, 6, 7, 8, 9, 0,\n",
       "        1, 2, 3, 4, 6, 7, 8, 9, 0, 1, 2, 3, 4, 5, 7, 8, 9, 0, 1, 2, 3, 4,\n",
       "        5, 6], dtype=int32)}"
      ]
     },
     "execution_count": 12,
     "metadata": {},
     "output_type": "execute_result"
    }
   ],
   "source": [
    "time_step.observation"
   ]
  },
  {
   "cell_type": "code",
   "execution_count": 13,
   "metadata": {
    "colab": {
     "height": 340
    },
    "colab_type": "code",
    "executionInfo": {
     "elapsed": 105,
     "status": "ok",
     "timestamp": 1583516915604,
     "user": {
      "displayName": "",
      "photoUrl": "",
      "userId": ""
     },
     "user_tz": 0
    },
    "id": "DkF-Yne2FJPJ",
    "outputId": "573ea263-cce9-4325-c1c8-7ee30efb9e16"
   },
   "outputs": [
    {
     "name": "stdout",
     "output_type": "stream",
     "text": [
      "r=1.6688453121526194, p=1.0\n"
     ]
    },
    {
     "data": {
      "image/png": "[encoded data removed]",
      "text/plain": [
       "<Figure size 360x360 with 1 Axes>"
      ]
     },
     "metadata": {
      "needs_background": "light"
     },
     "output_type": "display_data"
    }
   ],
   "source": [
    "# Pick an edge.\n",
    "obs = time_step.observation\n",
    "moved_block = 3\n",
    "base_block = len(obs[\"nodes\"]) - 1  # this is the last placed block\n",
    "edge_index = list(\n",
    "    zip(obs[\"senders\"], obs[\"receivers\"])).index((moved_block, base_block))\n",
    "\n",
    "# Construct the action.\n",
    "action = {\n",
    "    \"Index\": edge_index,\n",
    "    \"sticky\": 0,     # make it not sticky\n",
    "    \"x_action\": 12,  # place it to the right\n",
    "}\n",
    "\n",
    "time_step = env.step(action)\n",
    "print_status(env, time_step)\n",
    "\n",
    "# Get the image observation from the task environment.\n",
    "show_rgb_observation(env.core_env.last_time_step.observation[\"RGB\"])"
   ]
  },
  {
   "cell_type": "code",
   "execution_count": 14,
   "metadata": {
    "colab": {},
    "colab_type": "code",
    "id": "96b9D67ck6QR"
   },
   "outputs": [],
   "source": [
    "# Stop the environment.\n",
    "env.close()"
   ]
  },
  {
   "cell_type": "markdown",
   "metadata": {
    "colab_type": "text",
    "id": "4F66-J8rBxr9"
   },
   "source": [
    "## Continuous Absolute Actions and Image Observations"
   ]
  },
  {
   "cell_type": "markdown",
   "metadata": {
    "colab_type": "text",
    "id": "MvTGYr0Yh3yb"
   },
   "source": [
    "The `continuous_absolute` wrapper exposes continuous absolute actions and image observations. Here is an example of loading the Covering task with this wrapper, taking some actions in the environment, and displaying the resulting observations."
   ]
  },
  {
   "cell_type": "code",
   "execution_count": 15,
   "metadata": {
    "colab": {},
    "colab_type": "code",
    "id": "NBZdSXXC5eik"
   },
   "outputs": [],
   "source": [
    "# Create the environment.\n",
    "env = dm_construction.get_environment(\n",
    "    \"covering\", wrapper_type=\"continuous_absolute\", difficulty=0)"
   ]
  },
  {
   "cell_type": "code",
   "execution_count": 16,
   "metadata": {
    "colab": {
     "height": 85
    },
    "colab_type": "code",
    "executionInfo": {
     "elapsed": 41,
     "status": "ok",
     "timestamp": 1583516922655,
     "user": {
      "displayName": "",
      "photoUrl": "",
      "userId": ""
     },
     "user_tz": 0
    },
    "id": "F7RrPiXNBwX-",
    "outputId": "480961d4-49fc-4dc0-8296-65f1643dbd2d"
   },
   "outputs": [
    {
     "data": {
      "text/plain": [
       "{'Horizontal': BoundedArray(shape=(), dtype=dtype('float32'), name=None, minimum=-7.5, maximum=7.5),\n",
       " 'Vertical': BoundedArray(shape=(), dtype=dtype('float32'), name=None, minimum=0.0, maximum=15.0),\n",
       " 'Sticky': BoundedArray(shape=(), dtype=dtype('float32'), name=None, minimum=-1.0, maximum=1.0),\n",
       " 'Selector': BoundedArray(shape=(), dtype=dtype('float32'), name=None, minimum=-7.0, maximum=7.0)}"
      ]
     },
     "execution_count": 16,
     "metadata": {},
     "output_type": "execute_result"
    }
   ],
   "source": [
    "env.action_spec()"
   ]
  },
  {
   "cell_type": "code",
   "execution_count": 17,
   "metadata": {
    "colab": {
     "height": 34
    },
    "colab_type": "code",
    "executionInfo": {
     "elapsed": 43,
     "status": "ok",
     "timestamp": 1583516922707,
     "user": {
      "displayName": "",
      "photoUrl": "",
      "userId": ""
     },
     "user_tz": 0
    },
    "id": "x308Fr2KB0Sy",
    "outputId": "110b4f1d-21ac-497d-d54b-d40105b9b4fe"
   },
   "outputs": [
    {
     "data": {
      "text/plain": [
       "Array(shape=(64, 64, 3), dtype=dtype('uint8'), name='AgentCamera')"
      ]
     },
     "execution_count": 17,
     "metadata": {},
     "output_type": "execute_result"
    }
   ],
   "source": [
    "env.observation_spec()"
   ]
  },
  {
   "cell_type": "code",
   "execution_count": 18,
   "metadata": {
    "colab": {
     "height": 322
    },
    "colab_type": "code",
    "executionInfo": {
     "elapsed": 119,
     "status": "ok",
     "timestamp": 1583516922837,
     "user": {
      "displayName": "",
      "photoUrl": "",
      "userId": ""
     },
     "user_tz": 0
    },
    "id": "Jrku9vLjB-aO",
    "outputId": "e22ea2d0-708e-46a1-9e08-e860d2dc6d8c"
   },
   "outputs": [
    {
     "data": {
      "image/png": "[encoded data removed]",
      "text/plain": [
       "<Figure size 360x360 with 1 Axes>"
      ]
     },
     "metadata": {
      "needs_background": "light"
     },
     "output_type": "display_data"
    }
   ],
   "source": [
    "# Start a new episode.\n",
    "np.random.seed(1234)\n",
    "time_step = env.reset()\n",
    "\n",
    "# This is the same observation that agents will see.\n",
    "show_rgb_observation(time_step.observation)"
   ]
  },
  {
   "cell_type": "code",
   "execution_count": 19,
   "metadata": {
    "colab": {
     "height": 339
    },
    "colab_type": "code",
    "executionInfo": {
     "elapsed": 226,
     "status": "ok",
     "timestamp": 1583516923073,
     "user": {
      "displayName": "",
      "photoUrl": "",
      "userId": ""
     },
     "user_tz": 0
    },
    "id": "Hoz8LwSdCpZ4",
    "outputId": "a5f3826a-e5cf-47db-ffa3-085fd58139d4"
   },
   "outputs": [
    {
     "name": "stdout",
     "output_type": "stream",
     "text": [
      "r=0.0, p=1.0\n"
     ]
    },
    {
     "data": {
      "image/png": "[encoded data removed]",
      "text/plain": [
       "<Figure size 360x360 with 1 Axes>"
      ]
     },
     "metadata": {
      "needs_background": "light"
     },
     "output_type": "display_data"
    }
   ],
   "source": [
    "# Place a block a bit to the right.\n",
    "action = {\n",
    "    \"Horizontal\": 1,\n",
    "    \"Vertical\": 1,\n",
    "    \"Sticky\": -1,\n",
    "    \"Selector\": 0\n",
    "}\n",
    "\n",
    "time_step = env.step(action)\n",
    "show_rgb_observation(time_step.observation)\n",
    "print_status(env, time_step)"
   ]
  },
  {
   "cell_type": "code",
   "execution_count": 20,
   "metadata": {
    "colab": {
     "height": 339
    },
    "colab_type": "code",
    "executionInfo": {
     "elapsed": 107,
     "status": "ok",
     "timestamp": 1583516923192,
     "user": {
      "displayName": "",
      "photoUrl": "",
      "userId": ""
     },
     "user_tz": 0
    },
    "id": "CKlTQgqUDM1t",
    "outputId": "eda34e10-92d3-4d0e-96e9-3e2baf70d2b5"
   },
   "outputs": [
    {
     "name": "stdout",
     "output_type": "stream",
     "text": [
      "r=-1.6036009368415125, p=1.0\n"
     ]
    },
    {
     "data": {
      "image/png": "[encoded data removed]",
      "text/plain": [
       "<Figure size 360x360 with 1 Axes>"
      ]
     },
     "metadata": {
      "needs_background": "light"
     },
     "output_type": "display_data"
    }
   ],
   "source": [
    "# Place another block in the center.\n",
    "action = {\n",
    "    \"Horizontal\": 0,\n",
    "    \"Vertical\": 2,\n",
    "    \"Sticky\": 1,\n",
    "    \"Selector\": 0\n",
    "}\n",
    "\n",
    "time_step = env.step(action)\n",
    "show_rgb_observation(time_step.observation)\n",
    "print_status(env, time_step)"
   ]
  },
  {
   "cell_type": "code",
   "execution_count": 21,
   "metadata": {
    "colab": {},
    "colab_type": "code",
    "id": "oiDk5dFkk895"
   },
   "outputs": [],
   "source": [
    "# Stop the environment.\n",
    "env.close()"
   ]
  },
  {
   "cell_type": "markdown",
   "metadata": {
    "colab_type": "text",
    "id": "DJEbWBS9ExDS"
   },
   "source": [
    "## Creating Videos"
   ]
  },
  {
   "cell_type": "markdown",
   "metadata": {
    "colab_type": "text",
    "id": "zHisw-Lriq13"
   },
   "source": [
    "Because physics is simulated for many timesteps in between each action, it can be nice to grab all of those intermediate frames (the observations exposed to the agent are only the final frame of the simulation). To do this, we will enable a special observer camera in the underlying Unity environment and then pull frames from this to create a video."
   ]
  },
  {
   "cell_type": "code",
   "execution_count": 3,
   "metadata": {
    "cellView": "both",
    "colab": {},
    "colab_type": "code",
    "id": "eNt9gB9jw0am"
   },
   "outputs": [],
   "source": [
    "def get_environment(problem_type, wrapper_type=\"discrete_relative\",\n",
    "                    difficulty=0, curriculum_sample=False):\n",
    "  \"\"\"Gets the environment.\n",
    "\n",
    "  This function separately creates the unity environment and then passes it to\n",
    "  the environment factory. We do this so that we can add an observer to the\n",
    "  unity environment to get all frames from which we will create a video.\n",
    "\n",
    "  Args:\n",
    "    problem_type: the name of the task\n",
    "    wrapper_type: the name of the wrapper\n",
    "    difficulty: the difficulty level\n",
    "    curriculum_sample: whether to sample difficulty from [0, difficulty]\n",
    "\n",
    "  Returns:\n",
    "    env_: the environment\n",
    "  \"\"\"\n",
    "  # Separately construct the Unity env, so we can enable the observer camera\n",
    "  # and set a higher resolution on it.\n",
    "  unity_env = dm_construction.get_unity_environment(\n",
    "      observer_width=600,\n",
    "      observer_height=600,\n",
    "      include_observer_camera=True,\n",
    "      max_simulation_substeps=50)\n",
    "\n",
    "  # Create the main environment by passing in the already-created Unity env.\n",
    "  env_ = dm_construction.get_environment(\n",
    "      problem_type, unity_env, wrapper_type=wrapper_type,\n",
    "      curriculum_sample=curriculum_sample, difficulty=difficulty)\n",
    "\n",
    "  # Create an observer to grab the frames from the observer camera.\n",
    "  env_.core_env.enable_frame_observer()\n",
    "  return env_\n",
    "\n",
    "\n",
    "def make_video(frames_):\n",
    "  \"\"\"Creates a video from a given set of frames.\"\"\"\n",
    "  # Create the Matplotlib animation and save it to a temporary file.\n",
    "  with tempfile.NamedTemporaryFile(suffix=\".mp4\") as fh:\n",
    "    writer = animation.FFMpegWriter(fps=20)\n",
    "    fig = plt.figure(frameon=False, figsize=(10, 10))\n",
    "    ax = fig.add_axes([0, 0, 1, 1])\n",
    "    ax.axis(\"off\")\n",
    "    ax.set_aspect(\"equal\")\n",
    "    im = ax.imshow(np.zeros_like(frames_[0]), interpolation=\"none\")\n",
    "    with writer.saving(fig, fh.name, 50):\n",
    "      for frame in frames_:\n",
    "        im.set_data(frame)\n",
    "        writer.grab_frame()\n",
    "    plt.close(fig)\n",
    "\n",
    "    # Read and encode the video to base64.\n",
    "    mp4 = open(fh.name, \"rb\").read()\n",
    "    data_url = \"data:video/mp4;base64,\" + base64.b64encode(mp4).decode()\n",
    "\n",
    "  # Display the video in the notebook.\n",
    "  return HTML(textwrap.dedent(\n",
    "      \"\"\"\n",
    "      <video controls>\n",
    "            <source src=\"{}\" type=\"video/mp4\">\n",
    "      </video>\n",
    "      \"\"\".format(data_url).strip()))"
   ]
  },
  {
   "cell_type": "code",
   "execution_count": 4,
   "metadata": {
    "cellView": "both",
    "colab": {
     "height": 538
    },
    "colab_type": "code",
    "executionInfo": {
     "elapsed": 8178,
     "status": "ok",
     "timestamp": 1583516934455,
     "user": {
      "displayName": "",
      "photoUrl": "",
      "userId": ""
     },
     "user_tz": 0
    },
    "id": "pCwwFrtDQc8v",
    "outputId": "7a164d34-18ae-4119-c11c-90c2293451a2"
   },
   "outputs": [
    {
     "name": "stdout",
     "output_type": "stream",
     "text": [
      "r=0.0, p=0.0 (reason: obstacle_hit)\n"
     ]
    },
    {
     "data": {
      "text/html": [
       "<video controls>\n",
       "            <source src=\"data:video/mp4;base64,AAAAIGZ0eXBpc29tAAACAGlzb21pc28yYXZjMW1wNDEAAAAIZnJlZQAAHCVtZGF0AAACoQYF//+d3EXpvebZSLeWLNgg2SPu73gyNjQgLSBjb3JlIDE1NyAtIEguMjY0L01QRUctNCBBVkMgY29kZWMgLSBDb3B5bGVmdCAyMDAzLTIwMTggLSBodHRwOi8vd3d3LnZpZGVvbGFuLm9yZy94MjY0Lmh0bWwgLSBvcHRpb25zOiBjYWJhYz0xIHJlZj0zIGRlYmxvY2s9MTowOjAgYW5hbHlzZT0weDM6MHgxMTMgbWU9aGV4IHN1Ym1lPTcgcHN5PTEgcHN5X3JkPTEuMDA6MC4wMCBtaXhlZF9yZWY9MSBtZV9yYW5nZT0xNiBjaHJvbWFfbWU9MSB0cmVsbGlzPTEgOHg4ZGN0PTEgY3FtPTAgZGVhZHpvbmU9MjEsMTEgZmFzdF9wc2tpcD0xIGNocm9tYV9xcF9vZmZzZXQ9LTIgdGhyZWFkcz0xNiBsb29rYWhlYWRfdGhyZWFkcz0yIHNsaWNlZF90aHJlYWRzPTAgbnI9MCBkZWNpbWF0ZT0xIGludGVybGFjZWQ9MCBibHVyYXlfY29tcGF0PTAgY29uc3RyYWluZWRfaW50cmE9MCBiZnJhbWVzPTMgYl9weXJhbWlkPTIgYl9hZGFwdD0xIGJfYmlhcz0wIGRpcmVjdD0xIHdlaWdodGI9MSBvcGVuX2dvcD0wIHdlaWdodHA9MiBrZXlpbnQ9MjUwIGtleWludF9taW49MjAgc2NlbmVjdXQ9NDAgaW50cmFfcmVmcmVzaD0wIHJjX2xvb2thaGVhZD00MCByYz1jcmYgbWJ0cmVlPTEgY3JmPTIzLjAgcWNvbXA9MC42MCBxcG1pbj0wIHFwbWF4PTY5IHFwc3RlcD00IGlwX3JhdGlvPTEuNDAgYXE9MToxLjAwAIAAAADcZYiEADv//vdOvwKbRZdqA5JXCvbKpCZZuVJrAfKmAAADAAADAATIX4XWGclKTYQAAB3gAcQhxCCZIQfaPK9Dlst0EAAAAwAAAwAAAwAAAwAAtv3yM4xuJYAhu+PVy2aEFP+YF+kVH52kYgNNHuG7mZUiWnFN7Jkrw2xWUXaW0sNAh6B00lWmBrbEtBGrEFAVQCYePB//ccU16hv5IVUzAr5K0knw4iQjQfXYaA0BhBoIavG/X57Tn71HeT8X/yaln9ZuhKkzzAXnUiJ/kpi0pf+mbw8AwAAAAwBrQQAAA2xBmiNsQ3/+p4QAAAMAAJ8EXIK/3mcr+ozK4/aaWlhq4jNTqV2sacnmlg6PIs6aHoGhjliqp9wT48Yn2j00xDUQrCmkIJE4vAJTjvN9Uun5wlGBP+1u1gUMb1LqYbPZUmGaoI1q9zXsBaS9vrxznrlHJUniiL9M1+1TY2R2l9B31skX+Cwdg/FrqLvZfU1LUzDVBwTeXV4iM6tQpPgUBL8257iBVh5Se60vXe2nx9qVXSshlDSEf6lHCZ1gHqpVP4bieAOWQrivg/CzYB5HynBHoSkV4rXXP68JvhEeAuSVVpf+ScAUir29SgVVAOoko/W/6LoCok+wsDjxyZdOW9LjgJHh1WFe+ibE98PDN8VMFzc4hzJxPYI6iidN3IHb/crU+uaT1QoSd6MRDVV2UAy2Gbzvd8/3Nv6ZYe36+0vS3+U0OWUzKDN7DusxaoEpSCetNJ0lla+DsekKknwqyY0VKKD/dHCgfsRmlHOFJ+iW7MYqArDTx94o8wv88eieC5kgLxsQdIHybQ4pnJoHMOwhuaqt//h5TzUgsNaPO8XtUFH3D9Eb/jAb7M7WC4lxBACcl1LLppvCPu8kcRdxfoXyOg8yUibbau6YKPpJl0mNfcRTB6rI8PSrbWnpDtwiBi1bpIErrcNdvtps2DBqkwfyx31KP0xNm9KBYV3A/zZnmJZs1JvGM2g6+GJGeN9AMDIHFAwtiU+LKD8EPGGTqywMoIySgzMTq4+LEL5u/fyA3kqc6CLHEBE8jiiB5CRLED4YPw5FyNWI5DBnJ6wF7i9IHAfQL583mQdESfoTm8moDfo+yOtnWNkSZMsD9AbE8Ts0m+lFwK4C0r2FOLVbDkJHZfEvDdieueVbzdqm5E9682JqBwwTczNuAIUtEtKPHrhQNzStED8U7lxWWYKT3wsW8uuWdHFwJJOG5SonqH4gXSskHP+5ZAVUPZJRZfq/muFbmN2cwzAmk2hPJgYaMTksCj0wS7k3RmsFjCFaGmxRw4EzyR2ZpTdlbpzCi/D3TMHUf476DaB8E2V0JUr1LCXWrLemvTqRZ02jj/afInyqx5zLCB7Lj0RP7PPfLHAHPeLbO5Dj52APP+nLfcCuobw3WN7exfNqqpwTtUkVOoRmqAcCQ5EE1J0X8jpPBEBo8zTv3hCY9TFF7NDedsAAAABIQZ5BeIX/AAADAABfgv9dilfQq9Q0RoL7XlTM8DSAC1/5bOHhAfpvG44J1BBjYwlPQjso1Jwu3yWhGmeLnkbaUAfaT8crLCJfAAAASQGeYmpCvwAAAwAAZIf7rz8S/sJPwyhlugAAf+za19fYDlGFdJ2+OmR1Yxc/68r8/CVDVdEpbF8urcIOBft/MhCDJa2RFvhBR3EAAAGhQZpkSahBaJlMCG///qeEAAADAAB2hpoJoLypSLMh7Nno0XVl1CwKKwVtcO3OMCjup7mI4yOxmeOHdCB+k+InCuZCGRzHDQSZSbAOjAfqgzq2qZ70OluYRNSmwHSRSuzb12rY+Euq9UwtQx7AW2oE4CZ81XiQnn2Zj+gVTgLNhict1r5o/f3dy1LerJ6r+ESMhaShstTAAXp/xUrRewOknwCylwbEBjxv4MgQNlMDUQ3CwZ0HI67Yr9ISKIwQ/mZ52jJJlOC5xy98GHDAGvUnVPMRD3Aqj4hY32j/Ke1CCMwF7q3AtT/zco6gKqV/gAUiowjzGUF6CT+admibX49LwTqxZJI/4A6oX/CCurqj/Sb9s035vy6tWAGsYLcL+/8iCgG02wvU9KIi4gWPc0LZmZqh4o6kFcso19y6Vu5cWAHsaMJcEiPYdVAzvPvD/YXX71gItwTTh/XWcMGldfDPk/UCUwoy76n3zYq/ZjMiirzhTm1c3dHg5eL7RNBFAOTGrGDoP1XRi5Kq6q0VkAO400XtrT2jFPUPHjESHoUSy8PxAAABG0GahUnhClJlMCG//qeEAAADAABBv8lwBMf5EpO+efC+yfsBhvjnZB/3ouE/dXJd1fqDo5lGIkPqke2xURYhTZ/0LfZeGzb4vP9XZhl/j4t0eAkgyhvGVR8PvBf0wGliFGqUJC3GBR44RUW5r95AjnY/utoW8wzR6W856Ibu8c0SEZ5zUPygfNaOimK2+jEZae37aPuCr+CmNcYXYSwuJEk1lefb+kgrO121TYARgG4ZnIkcMUmmDQsRSu/RukO7vlOjr311yHTr2DUn2lndtPElOzVEoyvINaxTzC85FqQu0DSWU3ojLhTKec7bDWkML40WsNx+0/mUoN/iezQYFIOMGFsyzUiw8XgLqzizb+mZX2AHDSP/ZHmbB8EAAAEhQZqmSeEOiZTAh3/+qZYAAAMAACE/5LgBn4qp141Qotb/6g00x3dc5ek9UNqhauFo0PLxFD6WWr1mX7FV4LZoCMPhyHFz2aHTPGtNFiknd2iGfsPqESWu5cHqJh4yKbynePY3s0QsxviHYBt5Khkb6CTMWR6d5wkjylWICtvwWE4ieCc387N90PQsseOw3mEt0IHCY90qjsEQ+n7UD7PCSBK+2VpIIl4DOp7BsrMWA4OFjPwbn7c42fq2yucxgqCJAjoCe570tNHBdblZcKAUnzQETVv5c3T8BaD3N9ZhnDk6MPhBPbbRCvZ7o0GuqAZ+7dBfF04+zZHkAicYN5m2av5Nq3HRKndyxSAZaeM19m3DLpYfXaAr7Uz5EDmVpe4gZQAABYdBmspJ4Q8mUwIZ//6eEAAAAwABWK//JVyC/pADXJw6lNAZPE0zjMjFu6TZbTPiZbgp+Iv3I6W//n8BByZovPnzU/QgRNcTqYibjq6S/5HHScI3MvxtqmIzGEvR6g3cGCP9wFfWDcZWpE48lCBbNvIrlFjKGQ4+4oaIutWCnL324OiMhDgqMUnHt6QBRUgW+pRPnaMBpaz0bTIDimKcukJEdPr/ZHAj3o91VLzH2/3BVn7AJYL73HgayqRUtd638V5jPGGfn+jGrRVchT7s4JuTEMN6oPO/ZoEX9xsf5JE/+Bg/ot3kW3YTbuGWQz9An/sPyxJtE1mewV+IS117Yw7E/ywe20KfjE133iRvfVCSQO+LM0nx//9s4Nmh8NQnKAFlSHP/YQCH5fmbqDzZ6RJ/TPv+pYjR3bnTOB9+VCCIEPyE8CNJxuC1SDh4NoZ7TsCZ3CBKNqXeB1FQl+AgCvvoqhsD9actBDC9e6KADWeFvtaYaAYm66/xCUiuCN2hr7VRCUpV8mZNHpLdeGncOEfhQinSt+XpQnnwSA+0g9nNXUyO/Doosr/75nWwNShQl31U2Acu+Xdwr9aoo7cxfOK7KXmvwQ8UB4J+MK5XzBMyft5BJygR6RTgQbvNa85lgI2Uh4OEGAZZQO4OXjt34/azJxcCaTEyIyGzNZEhoPd1KEstFhR1SuSJFuzSUA0mtY56XvuD2JGE+wwf7MFLsqyhavrPcWq2Vas+7IuEI0LetL3BPzuaY98K22dl+uyicD1qTdomnPjw3DZ0UNv25E3a9WIVl+3moCi5qHwpHLnIvaFdV8p/Twi1XJoXtgxlCT1O0yvS8TC5pJzymYMztamGRc4iMfhxgZZp8iC2wKvE3jd07rBi5sZPSMqxPze4nq2h8Smgyz5WLutJkuFA6oUd7kg0tfsmWjJcA4Kj0gSrw4CDW+wI61qZY0nOyfXTO4oJOXAiH0GXz3af6tpWonEjzkPPHzmqoAyzMkbJAE15WmEJox3OvQTJdDU4ciYlPfuujPxKR/o5umSiV90sfx53o84SIb6oCzjeyi/HL1d/cHELW2R2T0KngqRjniXCj+706nAMbGtRnZVjyQ8r6khm4Xzq5a2VS6ajMCK+EdfFlSbRbVFDNDvcsOGOgzugKlXLclTsFOSX7zK6A9RvrZnc3V3sRMA8r3Uz1wY3srPSk2PozK8Rn3wpUtn51sao580bjh1oyW13LqxSAvzvmyqj+oxzuQPKG24AWgTGmb21qTgILD04799aYddn2csna2WqX1u242wtH1dgMktcXDehq/P3sTM1IRoIIi9ShIKZI1tpLwMu7blUmBL0O5xwgwARfPbEAx1hNvfPhhZtildZtqe0R15RmTim2o9wSaINUq+FNwkhNb0ZL7Z19uhiNIwTIeNJH237yRFC7EgTfP4jQ5DIT4YwTp9IatislWuKNL586noSQe4k3Runh1Iv0x6ZdC/58ap508c3EYernaiYFi19dg43bDXbYOFQWf0w9gKivpSxfv0blk5PQdvfbCvwyoXhgLi1eCJAQ/0jcfI5eB96migrqyogCaVYvAEzDtzR5FZ+6DPqIbFsvJP1BoflHmo6pilo8i8WXF+2BC9RD3qbZbFW5cT1E9OpmDQfBMENFragJBSzY8p8Zyo1FBO19Rv7w31IaJhWz3t3QTsOrDOVFpgzKaZcJPqURjJ2o5CZQV240qQCr5bnJz9qHTr8Ml5zBo/jRlXFbU30OQ7LqmLagmBmP/ePO3EcCYsQIKP2jJ587aUvVIKDYelMPJkuFVu2IevFv7ddnWAjX8DGEVN0xzysF9sjBOXolBga02lpNSp1WD4ikNil4GPa/jYDVNndDbG9JACqTqKo+yuciO5sM94lQQAAAOZBnuhFETwz/wAAAwAAJrfTQne8TsjXILE6mAANIAAA8NZ/XIQ3/jr7tQK2u//9H0nhwqvC1c+5YsD+wNSy0dkUABO4YgAf/3XLjNBFuRpYBzyv4607XkzSf8kLEunAhFMDCbGZl+qbDNIMYkrvmfVxx9xeDE8+BzXzt460fMAg4GJTGJef38gOGOmoBczba/ahfseR3nRzMYfF83AFiWxIYS1sg0TnfU1KQthVENQwQE75Icm8Au5uTD8Aoa1Lb3cY6BjKVwwkIEzROeX15MpPTzRd4/wrXu++22+1Dsk1qH0YppiybwAAAHABnwd0Qr8AAAMAABUEw11pFqwfucNv1tmsK6CQSByB4j5b6v5sIL6ZrdIFltp5bFNE4APvS1QUOTkminLBkIbWw2avRBfaFfaxeqsjvieH+mRVDVPLt+Qoy0I7dDpAupT4/mbvLHVy/i9I1vOTF3jgAAAAjwGfCWpCvwAAAwAAR3i1I2vCOIhmzTcAAAfGAAEftQ4+LndwFnb5k3zko1gXwUgA+Qh6FisXLcfS+QP2SjrjCIa9nVKO5YdZ7yWlxfnhcox/wPhLSqEkuPq67UDFhe0rmm5zFvA7uhnkdldJzn9bln69ziH/wYM18LN4Yn7VmDmphMLp+r3CNb+WpAhVGJOBAAACBkGbC0moQWiZTAhf//6MsAAADeO9aAAmDasBRdvtQVs0Ho5ZW/zL97pHESRmKJkA8/C76wl8Wsjh8RGKnw9/WPI2njSWCZxC1A8xru3CnIUNIBkNZ3Sf3KzUzJIrwxX/f2qH2wiUen6elqnSQvbufrmEj16vRxzAGYMqGQPlqG3wqPc46hupaDwMC15/htETRQ3lNva163fpJ4wmcOXVSZpFZ/+XGIDeTvg3QsS2aeFScILXuKyFenT0gcGZj94ubZtuZEFmR974Q1L82eSrN0KrixPjZYfI/d3OcGoskGDnYpKD0ozjcw6Exikgs+GVyEvUhD+3oruUzbxJA8X9e4/B2kaH/wAp/ziqjxLzcdFj0TS8JUa4F5LIYPe1/1gmiBXl7OjVWOlGxu5qHYP+CZuP/JfpkmTx4dJ5TU0OIKZm4GnU621UFojjq5Z0j9XDmj47WUpeCXgB/cQ3pbZLDRph+DTlIqnk/UrKQAfo8ZWUBEVUDw2RHSq9Wq0/SrEIypz88pk/+jGqSDE4ddSjW3ShBAlnmMvp/v69IEQmJ5PsBKxUxyx7NrmapyCNG2PbxOLwRqYXU/Dxvl4bpNyEowcnLeTMlQhlB4SMhyQ0uP+BCeMdCHKKDcrsl+BaN7rb6JbtwAsbm5ZXw2h4Ezyi1eyLnYBdDJM3FZzozCOsPWuJq9okxolIAAADqkGbL0nhClJlMCH//qmWAAADAcn3SjmfqCaO8G4NaZ0dd1yZMgC/3ZXnZWRDw66dXnhPuctA8ecDm2FWWkpDZHnciF9x/WQyum369ojE+fb5Ixr3ztsWwkg6gwUApsqfNG5JZODSHTK/lSW+OAO3n6+pIqiTmqErmm09raAOxpJm8pLmYkJ2UQi5lNobnjTLB3/rN0FeHvdca7UIWZlU4aWWFMnA5T9itQfdR2RsqGqeWI5HOUofrKRqcGSV7puaFgYfmKg+Q4yt8/KNaabek8hXq8eiwdwERXSB7Thb/MeCBx5B3oAQd6VOIlFY1py3VD+RlMZDhWZbtuOEvT+cZLSaZblPO1TBYOY0iabtoSMKFGwi2tx77AwKYLL5AwNxP51DAdua49Syzhhe7tjP68Bt5IqTLDe4nCUY4nPvASN6+2PCM08mNR9qkHSa2V6cwcGwOhrphAbIv5L0n3Qo2dmKcfuE0si1hk78Oms8b8qGzAopCS4FN5RVuzDhhX64Mh60D7wf2AuLkN9b/plkp7C4mwe6t5enD5xbDMy6vUr9Y4w9XBbqDhhAwD1Znrs73mTaP6OvKQIelN0ARB9Hz0W5sn6pv2iXSFVON7ECFp3+OspebMRf8Wpwq6Swjwcp6khwczUvhTfg4u3TvjuHo0YGZXL0Z5Yb4HZuZTXVj5ZhJhfr4WfVQtwG0QvunrK8jZ7mD5Spk49vG5hVjY1hpXKx6fb3iez8c6VWjOIOzdlNjXlSRyQ4m8d/RcFCWpFMALPp0mlbiojEHgsiarmVxct5i4YydQ6TXaLB7Exzv01bUOBNbERQyTOE2Q3tL4NdBPf6DaQjH+hIgxr77IZRSu55ZikosdhcaV7/cO51u4/k7ond1Z+XVHmKvxuBfnvGGekx9QJcteso/jQnZWuLZHF4KY9oIhAkS6rts9+29X3BwO7wsxIYG0EYxZbnGSDwVQIVrkvpgEtzP8VG4rPQ2oAswRE5hGBNBM29L2SpMByKIByQjvfsok0/MSOC7HpmVSJTE54nnVb3TjhZfLZtbWmFdFyJ07vQl3XYG5JmAOj/t9t2JA/UlxWbZ1rxjs/JGoIbNCqnzD/yxtq1gw1UZ/4GDNa2e1ttI2lomK5WNWLSb4QVzopTQdCJMKfJO4wayJO5HhbpOcSjffl+l2JRWIKqN8gFkh1jqfpjMV1z/s9Vmk4BS09KMqewk7Di9t7SjlBnaU3cm8RHHzN0yuwOqTsZM63cWxh6RVWwAAAASkGfTUU0TDP/AAADAZH4D6u/8RZNsPlxn2nth6gepwSLUgAiDLGWQJXKm5g20CYascgDgc//b1593+QiHVzTES+lcszmf1nNPXxBAAAARAGfbHRCvwAAAwLolsUFShDLQmcRsPHYy6swNcGZsFWcstjnTw53dwmVlJXpAU7swu/HzTFukCUVoKP7vADW43UZUtnfAAAANQGfbmpCvwAAAwAA8zKfQKnwoenSXTIDeK72q1Ufo4zaf+lKN9MmReWZyNz+JABtBOGQpzhNAAAAZEGbc0moQWiZTAh3//6plgAAAwDAShaAJ2kfaGBHwsqkSAMi4+pGO7kbGgf3MCjZskAff8iFF+LFIp9yXCWEpP8DtUnop7blabJFJ+rOt6Lf3SJkqnBHGcO11M1weW39/3qmF4AAAAA6QZ+RRREsM/8AAAMAqChJaath+YR05DzzVOTB+4Ab6OjoWAEoZbyXqHgBahHlBZhgV/ArFkvnDlBlQAAAACMBn7B0Qr8AAAMAAPLwHzpU1Kww/UYrGAmrSOvw3+tLaJI13QAAACMBn7JqQr8AAAMAhuv2yhRX/lYgQA/qlxYlCZda9TG1YdtDZgAAACxBm7dJqEFsmUwId//+qZYAAAMAACE/Q2ADdvwErIE5/lGcuYmskx264dXt0QAAAClBn9VFFSwz/wAAAwCj01TJ21aVCCO/ZAGVUhnM99khLcFBVlVJF3UFnQAAACABn/R0Qr8AAAMAhroUygTPYeblWutP9c8/idDMvYA/wAAAABwBn/ZqQr8AAAMAhuv2yhRX/lOqBHzRXrkDaB6RAAAAJkGb+0moQWyZTAhv//6nhAAAAwAAQb6GwAbsP8svpZ9aqe1ai49hAAAAJEGeGUUVLDP/AAADAKPTVMnbVpUII79jwlJ4SGemhcOyojgB6QAAABsBnjh0Qr8AAAMAhroUygTPYeblWuslv9+eoQ8AAAAbAZ46akK/AAADAIbr9soUV/5TqgR82pzm4Am4AAAAF0GaP0moQWyZTAhX//44QAAAAwAAAwHdAAAAIUGeXUUVLDP/AAADAKPTVMnbVpUII79jwlXnzoj1UUASsQAAABsBnnx0Qr8AAAMAhroUygTPYeblWutP9c8ATMAAAAAbAZ5+akK/AAADAIbr9soUV/5TqgR82pzm4Am4AAAEfG1vb3YAAABsbXZoZAAAAAAAAAAAAAAAAAAAA+gAAAZAAAEAAAEAAAAAAAAAAAAAAAABAAAAAAAAAAAAAAAAAAAAAQAAAAAAAAAAAAAAAAAAQAAAAAAAAAAAAAAAAAAAAAAAAAAAAAAAAAAAAAAAAAIAAAOmdHJhawAAAFx0a2hkAAAAAwAAAAAAAAAAAAAAAQAAAAAAAAZAAAAAAAAAAAAAAAAAAAAAAAABAAAAAAAAAAAAAAAAAAAAAQAAAAAAAAAAAAAAAAAAQAAAAAH0AAAB9AAAAAAAJGVkdHMAAAAcZWxzdAAAAAAAAAABAAAGQAAABAAAAQAAAAADHm1kaWEAAAAgbWRoZAAAAAAAAAAAAAAAAAAAKAAAAEAAVcQAAAAAAC1oZGxyAAAAAAAAAAB2aWRlAAAAAAAAAAAAAAAAVmlkZW9IYW5kbGVyAAAAAsltaW5mAAAAFHZtaGQAAAABAAAAAAAAAAAAAAAkZGluZgAAABxkcmVmAAAAAAAAAAEAAAAMdXJsIAAAAAEAAAKJc3RibAAAAJlzdHNkAAAAAAAAAAEAAACJYXZjMQAAAAAAAAABAAAAAAAAAAAAAAAAAAAAAAH0AfQASAAAAEgAAAAAAAAAAQAAAAAAAAAAAAAAAAAAAAAAAAAAAAAAAAAAAAAAAAAAABj//wAAADNhdmNDAWQAHv/hABpnZAAerNlAgBB554QAAAMABAAAAwCgPFi2WAEABmjr48siwAAAABhzdHRzAAAAAAAAAAEAAAAgAAACAAAAABRzdHNzAAAAAAAAAAEAAAABAAAA+GN0dHMAAAAAAAAAHQAAAAEAAAQAAAAAAQAACAAAAAACAAACAAAAAAMAAAQAAAAAAQAACgAAAAABAAAEAAAAAAEAAAAAAAAAAQAAAgAAAAABAAAEAAAAAAEAAAoAAAAAAQAABAAAAAABAAAAAAAAAAEAAAIAAAAAAQAACgAAAAABAAAEAAAAAAEAAAAAAAAAAQAAAgAAAAABAAAKAAAAAAEAAAQAAAAAAQAAAAAAAAABAAACAAAAAAEAAAoAAAAAAQAABAAAAAABAAAAAAAAAAEAAAIAAAAAAQAACgAAAAABAAAEAAAAAAEAAAAAAAAAAQAAAgAAAAAcc3RzYwAAAAAAAAABAAAAAQAAACAAAAABAAAAlHN0c3oAAAAAAAAAAAAAACAAAAOFAAADcAAAAEwAAABNAAABpQAAAR8AAAElAAAFiwAAAOoAAAB0AAAAkwAAAgoAAAOuAAAATgAAAEgAAAA5AAAAaAAAAD4AAAAnAAAAJwAAADAAAAAtAAAAJAAAACAAAAAqAAAAKAAAAB8AAAAfAAAAGwAAACUAAAAfAAAAHwAAABRzdGNvAAAAAAAAAAEAAAAwAAAAYnVkdGEAAABabWV0YQAAAAAAAAAhaGRscgAAAAAAAAAAbWRpcmFwcGwAAAAAAAAAAAAAAAAtaWxzdAAAACWpdG9vAAAAHWRhdGEAAAABAAAAAExhdmY1OC4yOS4xMDA=\" type=\"video/mp4\">\n",
       "      </video>"
      ],
      "text/plain": [
       "<IPython.core.display.HTML object>"
      ]
     },
     "execution_count": 4,
     "metadata": {},
     "output_type": "execute_result"
    }
   ],
   "source": [
    "# Create the environment.\n",
    "env = get_environment(\"covering\", wrapper_type=\"continuous_absolute\")\n",
    "\n",
    "# Reset the episode.\n",
    "np.random.seed(1234)\n",
    "time_step = env.reset()\n",
    "frames = env.core_env.pop_observer_frames()\n",
    "\n",
    "# Take an action.\n",
    "action = {\n",
    "    \"Horizontal\": 0,\n",
    "    \"Vertical\": 5,\n",
    "    \"Sticky\": 0,\n",
    "    \"Selector\": 0\n",
    "}\n",
    "time_step = env.step(action)\n",
    "print_status(env, time_step)\n",
    "\n",
    "# Get all the intermediate frames.\n",
    "frames.extend(env.core_env.pop_observer_frames())\n",
    "\n",
    "# Stop the environment.\n",
    "env.close()\n",
    "\n",
    "# Display the results as a video. Here you can see the block falling from a\n",
    "# large height and eventually colliding with an obstacle.\n",
    "make_video(frames)"
   ]
  },
  {
   "cell_type": "code",
   "execution_count": 5,
   "metadata": {
    "colab": {
     "height": 538
    },
    "colab_type": "code",
    "executionInfo": {
     "elapsed": 8163,
     "status": "ok",
     "timestamp": 1583516942630,
     "user": {
      "displayName": "",
      "photoUrl": "",
      "userId": ""
     },
     "user_tz": 0
    },
    "id": "vZU7Etk3HxPL",
    "outputId": "2dca674e-72ed-4b74-a146-9c7dceae8376"
   },
   "outputs": [
    {
     "name": "stdout",
     "output_type": "stream",
     "text": [
      "r=0.0, p=1.0\n"
     ]
    },
    {
     "data": {
      "text/html": [
       "<video controls>\n",
       "            <source src=\"data:video/mp4;base64,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\" type=\"video/mp4\">\n",
       "      </video>"
      ],
      "text/plain": [
       "<IPython.core.display.HTML object>"
      ]
     },
     "execution_count": 5,
     "metadata": {},
     "output_type": "execute_result"
    }
   ],
   "source": [
    "# Create the environment.\n",
    "env = get_environment(\"marble_run\", wrapper_type=\"continuous_absolute\")\n",
    "\n",
    "# Reset the episode.\n",
    "np.random.seed(1234)\n",
    "time_step = env.reset()\n",
    "frames = env.core_env.pop_observer_frames()\n",
    "\n",
    "# Take an action.\n",
    "action = {\n",
    "    \"Horizontal\": 0,\n",
    "    \"Vertical\": 5,\n",
    "    \"Sticky\": 1,\n",
    "    \"Selector\": 0\n",
    "}\n",
    "time_step = env.step(action)\n",
    "print_status(env, time_step)\n",
    "\n",
    "# Get all the intermediate frames.\n",
    "frames.extend(env.core_env.pop_observer_frames())\n",
    "\n",
    "# Stop the environment.\n",
    "env.close()\n",
    "\n",
    "# Display the results as a video\n",
    "make_video(frames)"
   ]
  },
  {
   "cell_type": "code",
   "execution_count": null,
   "metadata": {},
   "outputs": [],
   "source": []
  }
 ],
 "metadata": {
  "colab": {
   "collapsed_sections": [],
   "last_runtime": {
    "build_target": "",
    "kind": "local"
   },
   "name": "Environment Loading Examples",
   "provenance": []
  },
  "kernelspec": {
   "display_name": "Python 3",
   "language": "python",
   "name": "python3"
  },
  "language_info": {
   "codemirror_mode": {
    "name": "ipython",
    "version": 3
   },
   "file_extension": ".py",
   "mimetype": "text/x-python",
   "name": "python",
   "nbconvert_exporter": "python",
   "pygments_lexer": "ipython3",
   "version": "3.7.9"
  }
 },
 "nbformat": 4,
 "nbformat_minor": 1
}
