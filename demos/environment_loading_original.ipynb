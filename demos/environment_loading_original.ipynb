{
  "cells": [
    {
      "cell_type": "markdown",
      "metadata": {
        "colab_type": "text",
        "id": "3rjW5U5EWvFi"
      },
      "source": [
        "# Environment Loading Examples\n",
        "\n",
        "In this notebook, we walk through a few examples of how to load and interact with the Construction environments, both using discrete relative actions with graph observations, and using continuous absolute actions with image observations.\n",
        "\n",
        "For further details, see the [Documentation](https://github.com/deepmind/dm_construction/blob/master/docs/index.md)."
      ]
    },
    {
      "cell_type": "code",
      "execution_count": 0,
      "metadata": {
        "cellView": "both",
        "colab": {},
        "colab_type": "code",
        "id": "ZnFfEX6jkwXb"
      },
      "outputs": [],
      "source": [
        "# Copyright 2020 DeepMind Technologies Limited\n",
        "#\n",
        "# Licensed under the Apache License, Version 2.0 (the \"License\");\n",
        "# you may not use this file except in compliance with the License.\n",
        "# You may obtain a copy of the License at\n",
        "#\n",
        "#      http://www.apache.org/licenses/LICENSE-2.0\n",
        "#\n",
        "# Unless required by applicable law or agreed to in writing, software\n",
        "# distributed under the License is distributed on an \"AS IS\" BASIS,\n",
        "# WITHOUT WARRANTIES OR CONDITIONS OF ANY KIND, either express or implied.\n",
        "# See the License for the specific language governing permissions and\n",
        "# limitations under the License."
      ]
    },
    {
      "cell_type": "markdown",
      "metadata": {
        "colab_type": "text",
        "id": "Qq5modlibPFw"
      },
      "source": [
        "**Installation**\n",
        "\n",
        "1. From the root of this repository, run `pip install .[demos]` to install both `dm_construction` and extra dependencies needed to run this notebook.\n",
        "2. Install [ffmpeg](https://ffmpeg.org/):\n",
        "  * Cross-platform with [Anaconda](https://docs.anaconda.com/anaconda/install/): `conda install ffmpeg`\n",
        "  * Ubuntu: `apt-get install ffmpeg`\n",
        "  * Mac with [Homebrew](https://brew.sh/): `brew install ffmpeg`"
      ]
    },
    {
      "cell_type": "code",
      "execution_count": 0,
      "metadata": {
        "cellView": "both",
        "colab": {},
        "colab_type": "code",
        "id": "IqN5Xi6Dwg8A"
      },
      "outputs": [],
      "source": [
        "import base64\n",
        "import tempfile\n",
        "import textwrap\n",
        "\n",
        "import dm_construction\n",
        "from IPython.display import HTML\n",
        "from matplotlib import animation\n",
        "import matplotlib.pyplot as plt\n",
        "import numpy as np"
      ]
    },
    {
      "cell_type": "code",
      "execution_count": 0,
      "metadata": {
        "cellView": "both",
        "colab": {},
        "colab_type": "code",
        "id": "Rgjq1hYsCQTF"
      },
      "outputs": [],
      "source": [
        "## Helper Functions\n",
        "\n",
        "def show_rgb_observation(rgb_observation, size=5):\n",
        "  \"\"\"Plots a RGB observation, as returned from a Unity environment.\n",
        "\n",
        "  Args:\n",
        "    rgb_observation: numpy array of pixels\n",
        "    size: size to set the figure\n",
        "  \"\"\"\n",
        "  _, ax = plt.subplots(figsize=(size, size))\n",
        "  ax.imshow(rgb_observation)\n",
        "  ax.set_axis_off()\n",
        "  ax.set_aspect(\"equal\")\n",
        "\n",
        "\n",
        "def print_status(env_, time_step_):\n",
        "  \"\"\"Prints reward and episode termination information.\"\"\"\n",
        "  status = \"r={}, p={}\".format(time_step_.reward, time_step_.discount)\n",
        "  if time_step_.discount == 0:\n",
        "    status += \" (reason: {})\".format(env_.termination_reason)\n",
        "  print(status)"
      ]
    },
    {
      "cell_type": "markdown",
      "metadata": {
        "colab_type": "text",
        "id": "KT-f-mqNHQuY"
      },
      "source": [
        "## Supported tasks and wrappers"
      ]
    },
    {
      "cell_type": "markdown",
      "metadata": {
        "colab_type": "text",
        "id": "kqZG9Eh6hwT2"
      },
      "source": [
        "These are the tasks that can be loaded:"
      ]
    },
    {
      "cell_type": "code",
      "execution_count": 0,
      "metadata": {
        "colab": {
          "height": 34
        },
        "colab_type": "code",
        "executionInfo": {
          "elapsed": 31,
          "status": "ok",
          "timestamp": 1583516904602,
          "user": {
            "displayName": "",
            "photoUrl": "",
            "userId": ""
          },
          "user_tz": 0
        },
        "id": "hQrnulou5hy_",
        "outputId": "ccd09317-734d-4276-d518-bf0b0a2dd37c"
      },
      "outputs": [
        {
          "data": {
            "text/plain": [
              "['connecting', 'covering', 'covering_hard', 'marble_run', 'silhouette']"
            ]
          },
          "execution_count": 4,
          "metadata": {
            "tags": []
          },
          "output_type": "execute_result"
        }
      ],
      "source": [
        "dm_construction.ALL_TASKS"
      ]
    },
    {
      "cell_type": "markdown",
      "metadata": {
        "colab_type": "text",
        "id": "pCSth8vehyb0"
      },
      "source": [
        "These are the wrappers that can be applied to the tasks:"
      ]
    },
    {
      "cell_type": "code",
      "execution_count": 0,
      "metadata": {
        "colab": {
          "height": 34
        },
        "colab_type": "code",
        "executionInfo": {
          "elapsed": 34,
          "status": "ok",
          "timestamp": 1583516904649,
          "user": {
            "displayName": "",
            "photoUrl": "",
            "userId": ""
          },
          "user_tz": 0
        },
        "id": "p1dmfSnkBs5X",
        "outputId": "a88202a3-4f5d-4598-95ef-e676c20dc8f9"
      },
      "outputs": [
        {
          "data": {
            "text/plain": [
              "['continuous_absolute', 'discrete_relative']"
            ]
          },
          "execution_count": 5,
          "metadata": {
            "tags": []
          },
          "output_type": "execute_result"
        }
      ],
      "source": [
        "dm_construction.ALL_WRAPPERS"
      ]
    },
    {
      "cell_type": "markdown",
      "metadata": {
        "colab_type": "text",
        "id": "zI_cnwMoB2ZX"
      },
      "source": [
        "## Discrete Relative Actions and Graph Observations"
      ]
    },
    {
      "cell_type": "markdown",
      "metadata": {
        "colab_type": "text",
        "id": "xg356bZDiKNd"
      },
      "source": [
        "The `discrete_relative` wrapper exposes graph-based discrete relative actions and graph observations. Here is an example of loading the Covering task with this wrapper and taking some actions in the environment.\n",
        "\n",
        "Because the observations are graphs, they are not easy to visualize. Instead, we will grab image observations from the underyling task environment and display those instead."
      ]
    },
    {
      "cell_type": "code",
      "execution_count": 0,
      "metadata": {
        "colab": {},
        "colab_type": "code",
        "id": "FX3BH6NrB5cf"
      },
      "outputs": [],
      "source": [
        "# Create the environment.\n",
        "env = dm_construction.get_environment(\n",
        "    \"covering\", wrapper_type=\"discrete_relative\", difficulty=0)"
      ]
    },
    {
      "cell_type": "code",
      "execution_count": 0,
      "metadata": {
        "colab": {
          "height": 68
        },
        "colab_type": "code",
        "executionInfo": {
          "elapsed": 43,
          "status": "ok",
          "timestamp": 1583516915181,
          "user": {
            "displayName": "",
            "photoUrl": "",
            "userId": ""
          },
          "user_tz": 0
        },
        "id": "pYA3B_ZMB613",
        "outputId": "4118a9da-57a4-4f9d-b1d2-157f489b103c"
      },
      "outputs": [
        {
          "data": {
            "text/plain": [
              "{'Index': Array(shape=(), dtype=dtype('int32'), name=None),\n",
              " 'x_action': BoundedArray(shape=(), dtype=dtype('int32'), name=None, minimum=0, maximum=14),\n",
              " 'sticky': BoundedArray(shape=(), dtype=dtype('int32'), name=None, minimum=0, maximum=1)}"
            ]
          },
          "execution_count": 7,
          "metadata": {
            "tags": []
          },
          "output_type": "execute_result"
        }
      ],
      "source": [
        "env.action_spec()"
      ]
    },
    {
      "cell_type": "code",
      "execution_count": 0,
      "metadata": {
        "colab": {
          "height": 136
        },
        "colab_type": "code",
        "executionInfo": {
          "elapsed": 33,
          "status": "ok",
          "timestamp": 1583516915223,
          "user": {
            "displayName": "",
            "photoUrl": "",
            "userId": ""
          },
          "user_tz": 0
        },
        "id": "jX7dbkOJB7vK",
        "outputId": "5ea7f2a2-bcbf-4967-c1ed-f6bfd5454253"
      },
      "outputs": [
        {
          "data": {
            "text/plain": [
              "{'nodes': Array(shape=(0, 15), dtype=dtype('float32'), name='nodes_spec'),\n",
              " 'edges': Array(shape=(0, 1), dtype=dtype('float32'), name='edges_spec'),\n",
              " 'globals': Array(shape=(1, 1), dtype=dtype('float32'), name='globals_spec'),\n",
              " 'n_node': Array(shape=(1,), dtype=dtype('int32'), name='n_node_spec'),\n",
              " 'n_edge': Array(shape=(1,), dtype=dtype('int32'), name='n_edge_spec'),\n",
              " 'receivers': Array(shape=(0,), dtype=dtype('int32'), name='receivers_spec'),\n",
              " 'senders': Array(shape=(0,), dtype=dtype('int32'), name='senders_spec')}"
            ]
          },
          "execution_count": 8,
          "metadata": {
            "tags": []
          },
          "output_type": "execute_result"
        }
      ],
      "source": [
        "env.observation_spec()"
      ]
    },
    {
      "cell_type": "code",
      "execution_count": 0,
      "metadata": {
        "colab": {
          "height": 323
        },
        "colab_type": "code",
        "executionInfo": {
          "elapsed": 126,
          "status": "ok",
          "timestamp": 1583516915362,
          "user": {
            "displayName": "",
            "photoUrl": "",
            "userId": ""
          },
          "user_tz": 0
        },
        "id": "HJnIA6CxEYm8",
        "outputId": "a6b76f63-381f-4be7-dab3-473c19915fb9"
      },
      "outputs": [
        {
          "data": {
            "image/png": "[encoded data removed]",
            "text/plain": [
              "\u003cFigure size 500x500 with 1 Axes\u003e"
            ]
          },
          "metadata": {
            "tags": []
          },
          "output_type": "display_data"
        }
      ],
      "source": [
        "np.random.seed(1234)\n",
        "time_step = env.reset()\n",
        "\n",
        "# Get the image observation from the task environment.\n",
        "show_rgb_observation(env.core_env.last_time_step.observation[\"RGB\"])"
      ]
    },
    {
      "cell_type": "code",
      "execution_count": 0,
      "metadata": {
        "colab": {
          "height": 340
        },
        "colab_type": "code",
        "executionInfo": {
          "elapsed": 112,
          "status": "ok",
          "timestamp": 1583516915486,
          "user": {
            "displayName": "",
            "photoUrl": "",
            "userId": ""
          },
          "user_tz": 0
        },
        "id": "GoCtIeXmE1f2",
        "outputId": "0c8cfd5c-257c-4806-97e1-4dab9ee7d838"
      },
      "outputs": [
        {
          "name": "stdout",
          "output_type": "stream",
          "text": [
            "r=-2.0, p=1.0\n"
          ]
        },
        {
          "data": {
            "image/png": "[encoded data removed]",
            "text/plain": [
              "\u003cFigure size 500x500 with 1 Axes\u003e"
            ]
          },
          "metadata": {
            "tags": []
          },
          "output_type": "display_data"
        }
      ],
      "source": [
        "# Pick an edge.\n",
        "obs = time_step.observation\n",
        "moved_block = 0\n",
        "base_block = 7\n",
        "edge_index = list(\n",
        "    zip(obs[\"senders\"], obs[\"receivers\"])).index((moved_block, base_block))\n",
        "\n",
        "# Construct the action.\n",
        "action = {\n",
        "    \"Index\": edge_index,\n",
        "    \"sticky\": 1,     # make it sticky\n",
        "    \"x_action\": 0,   # place it to the left\n",
        "}\n",
        "\n",
        "time_step = env.step(action)\n",
        "print_status(env, time_step)\n",
        "\n",
        "# Get the image observation from the task environment.\n",
        "show_rgb_observation(env.core_env.last_time_step.observation[\"RGB\"])"
      ]
    },
    {
      "cell_type": "code",
      "execution_count": 0,
      "metadata": {
        "colab": {
          "height": 340
        },
        "colab_type": "code",
        "executionInfo": {
          "elapsed": 105,
          "status": "ok",
          "timestamp": 1583516915604,
          "user": {
            "displayName": "",
            "photoUrl": "",
            "userId": ""
          },
          "user_tz": 0
        },
        "id": "DkF-Yne2FJPJ",
        "outputId": "573ea263-cce9-4325-c1c8-7ee30efb9e16"
      },
      "outputs": [
        {
          "name": "stdout",
          "output_type": "stream",
          "text": [
            "r=1.6688453121526194, p=1.0\n"
          ]
        },
        {
          "data": {
            "image/png": "[encoded data removed]",
            "text/plain": [
              "\u003cFigure size 500x500 with 1 Axes\u003e"
            ]
          },
          "metadata": {
            "tags": []
          },
          "output_type": "display_data"
        }
      ],
      "source": [
        "# Pick an edge.\n",
        "obs = time_step.observation\n",
        "moved_block = 3\n",
        "base_block = len(obs[\"nodes\"]) - 1\n",
        "edge_index = list(\n",
        "    zip(obs[\"senders\"], obs[\"receivers\"])).index((moved_block, base_block))\n",
        "\n",
        "# Construct the action.\n",
        "action = {\n",
        "    \"Index\": edge_index,\n",
        "    \"sticky\": 0,     # make it not sticky\n",
        "    \"x_action\": 12,  # place it to the right\n",
        "}\n",
        "\n",
        "time_step = env.step(action)\n",
        "print_status(env, time_step)\n",
        "\n",
        "# Get the image observation from the task environment.\n",
        "show_rgb_observation(env.core_env.last_time_step.observation[\"RGB\"])"
      ]
    },
    {
      "cell_type": "code",
      "execution_count": 0,
      "metadata": {
        "colab": {},
        "colab_type": "code",
        "id": "96b9D67ck6QR"
      },
      "outputs": [],
      "source": [
        "# Stop the environment.\n",
        "env.close()"
      ]
    },
    {
      "cell_type": "markdown",
      "metadata": {
        "colab_type": "text",
        "id": "4F66-J8rBxr9"
      },
      "source": [
        "## Continuous Absolute Actions and Image Observations"
      ]
    },
    {
      "cell_type": "markdown",
      "metadata": {
        "colab_type": "text",
        "id": "MvTGYr0Yh3yb"
      },
      "source": [
        "The `continuous_absolute` wrapper exposes continuous absolute actions and image observations. Here is an example of loading the Covering task with this wrapper, taking some actions in the environment, and displaying the resulting observations."
      ]
    },
    {
      "cell_type": "code",
      "execution_count": 0,
      "metadata": {
        "colab": {},
        "colab_type": "code",
        "id": "NBZdSXXC5eik"
      },
      "outputs": [],
      "source": [
        "# Create the environment.\n",
        "env = dm_construction.get_environment(\n",
        "    \"covering\", wrapper_type=\"continuous_absolute\", difficulty=0)"
      ]
    },
    {
      "cell_type": "code",
      "execution_count": 0,
      "metadata": {
        "colab": {
          "height": 85
        },
        "colab_type": "code",
        "executionInfo": {
          "elapsed": 41,
          "status": "ok",
          "timestamp": 1583516922655,
          "user": {
            "displayName": "",
            "photoUrl": "",
            "userId": ""
          },
          "user_tz": 0
        },
        "id": "F7RrPiXNBwX-",
        "outputId": "480961d4-49fc-4dc0-8296-65f1643dbd2d"
      },
      "outputs": [
        {
          "data": {
            "text/plain": [
              "{'Horizontal': BoundedArray(shape=(), dtype=dtype('float32'), name=None, minimum=-7.5, maximum=7.5),\n",
              " 'Vertical': BoundedArray(shape=(), dtype=dtype('float32'), name=None, minimum=0.0, maximum=15.0),\n",
              " 'Sticky': BoundedArray(shape=(), dtype=dtype('float32'), name=None, minimum=-1.0, maximum=1.0),\n",
              " 'Selector': BoundedArray(shape=(), dtype=dtype('float32'), name=None, minimum=-7.0, maximum=7.0)}"
            ]
          },
          "execution_count": 14,
          "metadata": {
            "tags": []
          },
          "output_type": "execute_result"
        }
      ],
      "source": [
        "env.action_spec()"
      ]
    },
    {
      "cell_type": "code",
      "execution_count": 0,
      "metadata": {
        "colab": {
          "height": 34
        },
        "colab_type": "code",
        "executionInfo": {
          "elapsed": 43,
          "status": "ok",
          "timestamp": 1583516922707,
          "user": {
            "displayName": "",
            "photoUrl": "",
            "userId": ""
          },
          "user_tz": 0
        },
        "id": "x308Fr2KB0Sy",
        "outputId": "110b4f1d-21ac-497d-d54b-d40105b9b4fe"
      },
      "outputs": [
        {
          "data": {
            "text/plain": [
              "Array(shape=(64, 64, 3), dtype=dtype('uint8'), name='AgentCamera')"
            ]
          },
          "execution_count": 15,
          "metadata": {
            "tags": []
          },
          "output_type": "execute_result"
        }
      ],
      "source": [
        "env.observation_spec()"
      ]
    },
    {
      "cell_type": "code",
      "execution_count": 0,
      "metadata": {
        "colab": {
          "height": 322
        },
        "colab_type": "code",
        "executionInfo": {
          "elapsed": 119,
          "status": "ok",
          "timestamp": 1583516922837,
          "user": {
            "displayName": "",
            "photoUrl": "",
            "userId": ""
          },
          "user_tz": 0
        },
        "id": "Jrku9vLjB-aO",
        "outputId": "e22ea2d0-708e-46a1-9e08-e860d2dc6d8c"
      },
      "outputs": [
        {
          "data": {
            "image/png": "[encoded data removed]",
            "text/plain": [
              "\u003cFigure size 500x500 with 1 Axes\u003e"
            ]
          },
          "metadata": {
            "tags": []
          },
          "output_type": "display_data"
        }
      ],
      "source": [
        "# Start a new episode.\n",
        "np.random.seed(1234)\n",
        "time_step = env.reset()\n",
        "\n",
        "# This is the same observation that agents will see.\n",
        "show_rgb_observation(time_step.observation)"
      ]
    },
    {
      "cell_type": "code",
      "execution_count": 0,
      "metadata": {
        "colab": {
          "height": 339
        },
        "colab_type": "code",
        "executionInfo": {
          "elapsed": 226,
          "status": "ok",
          "timestamp": 1583516923073,
          "user": {
            "displayName": "",
            "photoUrl": "",
            "userId": ""
          },
          "user_tz": 0
        },
        "id": "Hoz8LwSdCpZ4",
        "outputId": "a5f3826a-e5cf-47db-ffa3-085fd58139d4"
      },
      "outputs": [
        {
          "name": "stdout",
          "output_type": "stream",
          "text": [
            "r=0.0, p=1.0\n"
          ]
        },
        {
          "data": {
            "image/png": "[encoded data removed]",
            "text/plain": [
              "\u003cFigure size 500x500 with 1 Axes\u003e"
            ]
          },
          "metadata": {
            "tags": []
          },
          "output_type": "display_data"
        }
      ],
      "source": [
        "# Place a block a bit to the right.\n",
        "action = {\n",
        "    \"Horizontal\": 1,\n",
        "    \"Vertical\": 1,\n",
        "    \"Sticky\": -1,\n",
        "    \"Selector\": 0\n",
        "}\n",
        "\n",
        "time_step = env.step(action)\n",
        "show_rgb_observation(time_step.observation)\n",
        "print_status(env, time_step)"
      ]
    },
    {
      "cell_type": "code",
      "execution_count": 0,
      "metadata": {
        "colab": {
          "height": 339
        },
        "colab_type": "code",
        "executionInfo": {
          "elapsed": 107,
          "status": "ok",
          "timestamp": 1583516923192,
          "user": {
            "displayName": "",
            "photoUrl": "",
            "userId": ""
          },
          "user_tz": 0
        },
        "id": "CKlTQgqUDM1t",
        "outputId": "eda34e10-92d3-4d0e-96e9-3e2baf70d2b5"
      },
      "outputs": [
        {
          "name": "stdout",
          "output_type": "stream",
          "text": [
            "r=-1.6036009365263264, p=1.0\n"
          ]
        },
        {
          "data": {
            "image/png": "[encoded data removed]",
            "text/plain": [
              "\u003cFigure size 500x500 with 1 Axes\u003e"
            ]
          },
          "metadata": {
            "tags": []
          },
          "output_type": "display_data"
        }
      ],
      "source": [
        "# Place another block in the center.\n",
        "action = {\n",
        "    \"Horizontal\": 0,\n",
        "    \"Vertical\": 2,\n",
        "    \"Sticky\": 1,\n",
        "    \"Selector\": 0\n",
        "}\n",
        "\n",
        "time_step = env.step(action)\n",
        "show_rgb_observation(time_step.observation)\n",
        "print_status(env, time_step)"
      ]
    },
    {
      "cell_type": "code",
      "execution_count": 0,
      "metadata": {
        "colab": {},
        "colab_type": "code",
        "id": "oiDk5dFkk895"
      },
      "outputs": [],
      "source": [
        "# Stop the environment.\n",
        "env.close()"
      ]
    },
    {
      "cell_type": "markdown",
      "metadata": {
        "colab_type": "text",
        "id": "DJEbWBS9ExDS"
      },
      "source": [
        "## Creating Videos"
      ]
    },
    {
      "cell_type": "markdown",
      "metadata": {
        "colab_type": "text",
        "id": "zHisw-Lriq13"
      },
      "source": [
        "Because physics is simulated for many timesteps in between each action, it can be nice to grab all of those intermediate frames (the observations exposed to the agent are only the final frame of the simulation). To do this, we will enable a special observer camera in the underlying Unity environment and then pull frames from this to create a video."
      ]
    },
    {
      "cell_type": "code",
      "execution_count": 0,
      "metadata": {
        "cellView": "both",
        "colab": {},
        "colab_type": "code",
        "id": "eNt9gB9jw0am"
      },
      "outputs": [],
      "source": [
        "def get_environment(problem_type, wrapper_type=\"discrete_relative\",\n",
        "                    difficulty=0, curriculum_sample=False):\n",
        "  \"\"\"Gets the environment.\n",
        "\n",
        "  This function separately creates the unity environment and then passes it to\n",
        "  the environment factory. We do this so that we can add an observer to the\n",
        "  unity environment to get all frames from which we will create a video.\n",
        "\n",
        "  Args:\n",
        "    problem_type: the name of the task\n",
        "    wrapper_type: the name of the wrapper\n",
        "    difficulty: the difficulty level\n",
        "    curriculum_sample: whether to sample difficulty from [0, difficulty]\n",
        "\n",
        "  Returns:\n",
        "    env_: the environment\n",
        "  \"\"\"\n",
        "  # Separately construct the Unity env, so we can enable the observer camera\n",
        "  # and set a higher resolution on it.\n",
        "  unity_env = dm_construction.get_unity_environment(\n",
        "      observer_width=600,\n",
        "      observer_height=600,\n",
        "      include_observer_camera=True,\n",
        "      max_simulation_substeps=50)\n",
        "\n",
        "  # Create the main environment by passing in the already-created Unity env.\n",
        "  env_ = dm_construction.get_environment(\n",
        "      problem_type, unity_env, wrapper_type=wrapper_type,\n",
        "      curriculum_sample=curriculum_sample, difficulty=difficulty)\n",
        "\n",
        "  # Create an observer to grab the frames from the observer camera.\n",
        "  env_.core_env.enable_frame_observer()\n",
        "  return env_\n",
        "\n",
        "\n",
        "def make_video(frames_):\n",
        "  \"\"\"Creates a video from a given set of frames.\"\"\"\n",
        "  # Create the Matplotlib animation and save it to a temporary file.\n",
        "  with tempfile.NamedTemporaryFile(suffix=\".mp4\") as fh:\n",
        "    writer = animation.FFMpegWriter(fps=20)\n",
        "    fig = plt.figure(frameon=False, figsize=(10, 10))\n",
        "    ax = fig.add_axes([0, 0, 1, 1])\n",
        "    ax.axis(\"off\")\n",
        "    ax.set_aspect(\"equal\")\n",
        "    im = ax.imshow(np.zeros_like(frames_[0]), interpolation=\"none\")\n",
        "    with writer.saving(fig, fh.name, 50):\n",
        "      for frame in frames_:\n",
        "        im.set_data(frame)\n",
        "        writer.grab_frame()\n",
        "    plt.close(fig)\n",
        "\n",
        "    # Read and encode the video to base64.\n",
        "    mp4 = open(fh.name, \"rb\").read()\n",
        "    data_url = \"data:video/mp4;base64,\" + base64.b64encode(mp4).decode()\n",
        "\n",
        "  # Display the video in the notebook.\n",
        "  return HTML(textwrap.dedent(\n",
        "      \"\"\"\n",
        "      \u003cvideo controls\u003e\n",
        "            \u003csource src=\"{}\" type=\"video/mp4\"\u003e\n",
        "      \u003c/video\u003e\n",
        "      \"\"\".format(data_url).strip()))"
      ]
    },
    {
      "cell_type": "code",
      "execution_count": 0,
      "metadata": {
        "cellView": "both",
        "colab": {
          "height": 538
        },
        "colab_type": "code",
        "executionInfo": {
          "elapsed": 8178,
          "status": "ok",
          "timestamp": 1583516934455,
          "user": {
            "displayName": "",
            "photoUrl": "",
            "userId": ""
          },
          "user_tz": 0
        },
        "id": "pCwwFrtDQc8v",
        "outputId": "7a164d34-18ae-4119-c11c-90c2293451a2"
      },
      "outputs": [
        {
          "name": "stdout",
          "output_type": "stream",
          "text": [
            "r=0.0, p=0.0 (reason: obstacle_hit)\n"
          ]
        },
        {
          "data": {
            "text/html": [
              "\u003cvideo controls\u003e\n",
              "            \u003csource src=\"data:video/mp4;base64,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\" type=\"video/mp4\"\u003e\n",
              "      \u003c/video\u003e"
            ],
            "text/plain": [
              "\u003cIPython.core.display.HTML at 0x7f4cf8463ef0\u003e"
            ]
          },
          "execution_count": 21,
          "metadata": {
            "tags": []
          },
          "output_type": "execute_result"
        }
      ],
      "source": [
        "# Create the environment.\n",
        "env = get_environment(\"covering\", wrapper_type=\"continuous_absolute\")\n",
        "\n",
        "# Reset the episode.\n",
        "np.random.seed(1234)\n",
        "time_step = env.reset()\n",
        "frames = env.core_env.pop_observer_frames()\n",
        "\n",
        "# Take an action.\n",
        "action = {\n",
        "    \"Horizontal\": 0,\n",
        "    \"Vertical\": 5,\n",
        "    \"Sticky\": 0,\n",
        "    \"Selector\": 0\n",
        "}\n",
        "time_step = env.step(action)\n",
        "print_status(env, time_step)\n",
        "\n",
        "# Get all the intermediate frames.\n",
        "frames.extend(env.core_env.pop_observer_frames())\n",
        "\n",
        "# Stop the environment.\n",
        "env.close()\n",
        "\n",
        "# Display the results as a video. Here you can see the block falling from a\n",
        "# large height and eventually colliding with an obstacle.\n",
        "make_video(frames)"
      ]
    },
    {
      "cell_type": "code",
      "execution_count": 0,
      "metadata": {
        "colab": {
          "height": 538
        },
        "colab_type": "code",
        "executionInfo": {
          "elapsed": 8163,
          "status": "ok",
          "timestamp": 1583516942630,
          "user": {
            "displayName": "",
            "photoUrl": "",
            "userId": ""
          },
          "user_tz": 0
        },
        "id": "vZU7Etk3HxPL",
        "outputId": "2dca674e-72ed-4b74-a146-9c7dceae8376"
      },
      "outputs": [
        {
          "name": "stdout",
          "output_type": "stream",
          "text": [
            "r=0.0, p=1.0\n"
          ]
        },
        {
          "data": {
            "text/html": [
              "\u003cvideo controls\u003e\n",
              "            \u003csource src=\"data:video/mp4;base64,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\" type=\"video/mp4\"\u003e\n",
              "      \u003c/video\u003e"
            ],
            "text/plain": [
              "\u003cIPython.core.display.HTML at 0x7f4cf831e198\u003e"
            ]
          },
          "execution_count": 22,
          "metadata": {
            "tags": []
          },
          "output_type": "execute_result"
        }
      ],
      "source": [
        "# Create the environment.\n",
        "env = get_environment(\"marble_run\", wrapper_type=\"continuous_absolute\")\n",
        "\n",
        "# Reset the episode.\n",
        "np.random.seed(1234)\n",
        "time_step = env.reset()\n",
        "frames = env.core_env.pop_observer_frames()\n",
        "\n",
        "# Take an action.\n",
        "action = {\n",
        "    \"Horizontal\": 0,\n",
        "    \"Vertical\": 5,\n",
        "    \"Sticky\": 1,\n",
        "    \"Selector\": 0\n",
        "}\n",
        "time_step = env.step(action)\n",
        "print_status(env, time_step)\n",
        "\n",
        "# Get all the intermediate frames.\n",
        "frames.extend(env.core_env.pop_observer_frames())\n",
        "\n",
        "# Stop the environment.\n",
        "env.close()\n",
        "\n",
        "# Display the results as a video\n",
        "make_video(frames)"
      ]
    }
  ],
  "metadata": {
    "colab": {
      "collapsed_sections": [],
      "last_runtime": {
        "build_target": "",
        "kind": "local"
      },
      "name": "Environment Loading Examples",
      "provenance": []
    },
    "kernelspec": {
      "display_name": "Python 3",
      "name": "python3"
    }
  },
  "nbformat": 4,
  "nbformat_minor": 0
}
